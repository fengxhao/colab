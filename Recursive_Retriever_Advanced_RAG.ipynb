{
  "cells": [
    {
      "cell_type": "markdown",
      "metadata": {
        "id": "view-in-github",
        "colab_type": "text"
      },
      "source": [
        "<a href=\"https://colab.research.google.com/github/fengxhao/colab/blob/main/Recursive_Retriever_Advanced_RAG.ipynb\" target=\"_parent\"><img src=\"https://colab.research.google.com/assets/colab-badge.svg\" alt=\"Open In Colab\"/></a>"
      ]
    },
    {
      "cell_type": "code",
      "execution_count": null,
      "metadata": {
        "id": "Ex4O_eRxelTu",
        "colab": {
          "base_uri": "https://localhost:8080/"
        },
        "outputId": "e82f9fe3-8bcd-470e-eb5e-4c0bd199630b"
      },
      "outputs": [
        {
          "output_type": "stream",
          "name": "stdout",
          "text": [
            "\u001b[2K     \u001b[90m━━━━━━━━━━━━━━━━━━━━━━━━━━━━━━━━━━━━━━━━\u001b[0m \u001b[32m171.5/171.5 kB\u001b[0m \u001b[31m3.5 MB/s\u001b[0m eta \u001b[36m0:00:00\u001b[0m\n",
            "\u001b[2K     \u001b[90m━━━━━━━━━━━━━━━━━━━━━━━━━━━━━━━━━━━━━━━━\u001b[0m \u001b[32m15.4/15.4 MB\u001b[0m \u001b[31m39.4 MB/s\u001b[0m eta \u001b[36m0:00:00\u001b[0m\n",
            "\u001b[2K     \u001b[90m━━━━━━━━━━━━━━━━━━━━━━━━━━━━━━━━━━━━━━━━\u001b[0m \u001b[32m2.0/2.0 MB\u001b[0m \u001b[31m51.2 MB/s\u001b[0m eta \u001b[36m0:00:00\u001b[0m\n",
            "\u001b[2K     \u001b[90m━━━━━━━━━━━━━━━━━━━━━━━━━━━━━━━━━━━━━━━━\u001b[0m \u001b[32m320.1/320.1 kB\u001b[0m \u001b[31m25.4 MB/s\u001b[0m eta \u001b[36m0:00:00\u001b[0m\n",
            "\u001b[2K     \u001b[90m━━━━━━━━━━━━━━━━━━━━━━━━━━━━━━━━━━━━━━━━\u001b[0m \u001b[32m75.6/75.6 kB\u001b[0m \u001b[31m8.4 MB/s\u001b[0m eta \u001b[36m0:00:00\u001b[0m\n",
            "\u001b[2K     \u001b[90m━━━━━━━━━━━━━━━━━━━━━━━━━━━━━━━━━━━━━━━━\u001b[0m \u001b[32m141.9/141.9 kB\u001b[0m \u001b[31m14.3 MB/s\u001b[0m eta \u001b[36m0:00:00\u001b[0m\n",
            "\u001b[2K     \u001b[90m━━━━━━━━━━━━━━━━━━━━━━━━━━━━━━━━━━━━━━━━\u001b[0m \u001b[32m1.8/1.8 MB\u001b[0m \u001b[31m52.6 MB/s\u001b[0m eta \u001b[36m0:00:00\u001b[0m\n",
            "\u001b[2K     \u001b[90m━━━━━━━━━━━━━━━━━━━━━━━━━━━━━━━━━━━━━━━━\u001b[0m \u001b[32m290.4/290.4 kB\u001b[0m \u001b[31m13.6 MB/s\u001b[0m eta \u001b[36m0:00:00\u001b[0m\n",
            "\u001b[2K     \u001b[90m━━━━━━━━━━━━━━━━━━━━━━━━━━━━━━━━━━━━━━━━\u001b[0m \u001b[32m77.9/77.9 kB\u001b[0m \u001b[31m10.0 MB/s\u001b[0m eta \u001b[36m0:00:00\u001b[0m\n",
            "\u001b[2K     \u001b[90m━━━━━━━━━━━━━━━━━━━━━━━━━━━━━━━━━━━━━━━━\u001b[0m \u001b[32m58.3/58.3 kB\u001b[0m \u001b[31m8.0 MB/s\u001b[0m eta \u001b[36m0:00:00\u001b[0m\n",
            "\u001b[2K     \u001b[90m━━━━━━━━━━━━━━━━━━━━━━━━━━━━━━━━━━━━━━━━\u001b[0m \u001b[32m49.3/49.3 kB\u001b[0m \u001b[31m5.7 MB/s\u001b[0m eta \u001b[36m0:00:00\u001b[0m\n",
            "\u001b[?25h"
          ]
        }
      ],
      "source": [
        "!pip install -q llama-index sentence-transformers rank-bm25\n",
        "!pip install -q llama-index-llms-groq llama-index-embeddings-huggingface llama-index-retrievers-bm25"
      ]
    },
    {
      "cell_type": "code",
      "source": [
        "import nest_asyncio\n",
        "# apply nested async to run in a notebook\n",
        "nest_asyncio.apply()"
      ],
      "metadata": {
        "id": "X7PYGtAofyfi"
      },
      "execution_count": null,
      "outputs": []
    },
    {
      "cell_type": "code",
      "execution_count": null,
      "metadata": {
        "id": "Tnz-DowKjH_v"
      },
      "outputs": [],
      "source": [
        "from llama_index.core import SimpleDirectoryReader\n",
        "from llama_index.llms.groq import Groq\n",
        "from llama_index.core.postprocessor import SentenceTransformerRerank\n",
        "from llama_index.core import Settings\n",
        "from llama_index.core.text_splitter import SentenceSplitter\n",
        "from llama_index.core.node_parser import SimpleNodeParser,SentenceWindowNodeParser\n",
        "from llama_index.core.schema import IndexNode\n",
        "from llama_index.core import VectorStoreIndex\n",
        "from llama_index.core.embeddings import resolve_embed_model\n",
        "from llama_index.core.retrievers import RecursiveRetriever\n",
        "from llama_index.retrievers.bm25 import BM25Retriever\n",
        "from llama_index.core.retrievers import QueryFusionRetriever\n",
        "from llama_index.core.query_engine import RetrieverQueryEngine\n",
        "from llama_index.core.postprocessor import LongContextReorder\n",
        "from llama_index.core.response.notebook_utils import display_response\n",
        "from llama_index.core.postprocessor import MetadataReplacementPostProcessor\n",
        "from llama_index.core import SummaryIndex\n",
        "from llama_index.core.extractors import SummaryExtractor\n",
        "from llama_index.core import get_response_synthesizer\n",
        "import copy\n",
        "from typing import List\n",
        "from llama_index.readers.file import PyMuPDFReader\n",
        "import re"
      ]
    },
    {
      "cell_type": "code",
      "execution_count": null,
      "metadata": {
        "id": "JbkURR3jjs2f"
      },
      "outputs": [],
      "source": [
        "import os\n",
        "os.environ[\"groq_api_key\"] = \"Your groq api key\" # 免费注册获取 https://console.groq.com/keys"
      ]
    },
    {
      "cell_type": "markdown",
      "source": [
        "## LlamaIndex Recursive Retriever\n",
        "\n",
        "通常在构建 RAG 流程时，不同的知识库文档，可能需要从许多检索参数/策略中选择合适的处理方式，涉及分块大小，是否生成摘要，是否假设答案/提问，是否rerank，是否处理LongContext Middle，是否使用融合算法...\n",
        "\n",
        "希望在RAG流程中自定义执行更多的策略，可以试试 **Recursive Retriever**\n",
        "\n",
        "主要思路：\n",
        "\n",
        "不仅 Retrieval 直接最相关的节点，而且 Retrieval 到的节点与其他Retriever/QueryEngine/IndexNode指向的关系会去进一步执行。例如，文档有文字和图表，文字分块处理正常执行，同时构建 Index 节点可以表示结构化表的简明摘要，并索引到该结构化表上的 SQL/Pandas QueryEngine去执行获取明确结果。\n"
      ],
      "metadata": {
        "id": "xpE9or7it3G8"
      }
    },
    {
      "cell_type": "markdown",
      "source": [
        "### 本示例综合 Recursive Retriever 的索引能力尝试自定义 RAG 流程\n",
        "\n",
        "测试文档分别是两位名人的Wiki\n",
        "1. [Michael Jordan](https://en.wikipedia.org/wiki/Michael_Jordan)\n",
        "2. [Elon Musk](https://en.wikipedia.org/wiki/Elon_Musk)\n",
        "\n",
        "希望的 RAG 流程是：\n",
        "* 生成两篇 Wiki 的摘要作为 Top IndexNode，来索引对应的 Wiki 生成的 Documents 各自的 Retriever， 通过RecursiveRetriever 来递归执行。\n",
        "* Michael Jordan Wiki 的Retriever构建：\n",
        "\n",
        "  1. SentenceSplitter 将 Document 分成 512 的Chunk作为 BaseNodes。\n",
        "  2. 使用 SentenceWindowNodeParser 将 BaseNode 进一步处理成带前后句 Window 的单句 SubNode。SubNode 的 Index Id指向 BaseNode。\n",
        "  3. 所有的 Nodes Flat 后进入 VectorStoreIndex 中，并创建Retriever。\n",
        "  4. 使用 RecursiveRetriever 来 Wrap Vector Retriever，这样在 retrieval到subNode会索引到BaseNode，这样传递给LLM的上下文更丰富具体。\n",
        "\n",
        "* Elon Musk Wiki 的Retriever构建：\n",
        "  \n",
        "  1. SentenceSplitter 将 Document 分成 512 的Chunk作为 BaseNodes。\n",
        "  2. 对 BaseNodes 进行 Tree Summarize，并存入metaData中，同时将 Summary创建IndexNode索引到 BaseNode。\n",
        "  3. 所有的 Nodes Flat 后进入 VectorStoreIndex 中，并创建Retriever。\n",
        "  4. 使用 BM25Retriever 补充对关键词的检索能力，并用 QueryFusionRetriever 倒数重排 Vector 和 BM25的 Node结果。\n",
        "\n",
        "\n",
        "**这个执行流程有点冗余，纯属娱乐。：）**\n",
        "\n",
        "---\n",
        "\n",
        "欢迎关注我的[小红书：AGI悟道](https://www.xiaohongshu.com/user/profile/64cdc8b0000000000b006bff?xhsshare=WeixinSession&appuid=64cdc8b0000000000b006bff&apptime=1715318887&wechatWid=5cd9ba53a281612dd8c33e00d51b9aad&wechatOrigin=menu)，发现更多有趣的AI Demo～"
      ],
      "metadata": {
        "id": "OB4zBohb3zFy"
      }
    },
    {
      "cell_type": "markdown",
      "source": [
        "### LLM\n",
        "* 主要的 LLM 使用 Groq 提供的 Llama3-70b，做摘要的LLM 使用llama3-8b-8192（Token rate limit比较大）\n",
        "* Embedding 使用 BGE-Large"
      ],
      "metadata": {
        "id": "04BEe8-i-gmG"
      }
    },
    {
      "cell_type": "code",
      "execution_count": null,
      "metadata": {
        "id": "S029ZnGlkCHo"
      },
      "outputs": [],
      "source": [
        "  embed_model = resolve_embed_model(\"local:BAAI/bge-large-en-v1.5\")\n",
        "  llm = Groq(model=\"llama3-70b-8192\", api_key=os.environ[\"groq_api_key\"])\n",
        "  llm_summarize = Groq(model=\"llama3-8b-8192\", api_key=os.environ[\"groq_api_key\"])\n",
        "\n",
        "  Settings.llm = llm\n",
        "  Settings.embed_model = embed_model"
      ]
    },
    {
      "cell_type": "markdown",
      "source": [
        "### 测试文档\n",
        "* Michael Jordan Wiki: https://en.wikipedia.org/wiki/Michael_Jordan\n",
        "* Elon_Musk Wiki: https://en.wikipedia.org/wiki/Elon_Musk"
      ],
      "metadata": {
        "id": "SId6pe-m_MR-"
      }
    },
    {
      "cell_type": "code",
      "source": [
        "from pathlib import Path\n",
        "\n",
        "!mkdir data\n",
        "wiki_titles = [\"Michael Jordan\", \"Elon Musk\"]\n",
        "\n",
        "import requests\n",
        "\n",
        "for title in wiki_titles:\n",
        "    response = requests.get(\n",
        "        \"https://en.wikipedia.org/w/api.php\",\n",
        "        params={\n",
        "            \"action\": \"query\",\n",
        "            \"format\": \"json\",\n",
        "            \"titles\": title,\n",
        "            \"prop\": \"extracts\",\n",
        "            # 'exintro': True,\n",
        "            \"explaintext\": True,\n",
        "        },\n",
        "    ).json()\n",
        "    page = next(iter(response[\"query\"][\"pages\"].values()))\n",
        "    wiki_text = page[\"extract\"]\n",
        "\n",
        "    data_path = Path(\"data\")\n",
        "    if not data_path.exists():\n",
        "        Path.mkdir(data_path)\n",
        "\n",
        "    with open(data_path / f\"{title}.txt\", \"w\") as fp:\n",
        "        fp.write(wiki_text)"
      ],
      "metadata": {
        "id": "WonB1NhXhULL"
      },
      "execution_count": null,
      "outputs": []
    },
    {
      "cell_type": "markdown",
      "source": [
        "### 加载文档生成两篇 Wiki 的 Doucments"
      ],
      "metadata": {
        "id": "7sfdePmj_Wxv"
      }
    },
    {
      "cell_type": "code",
      "execution_count": null,
      "metadata": {
        "id": "dlchPmkIo9NU"
      },
      "outputs": [],
      "source": [
        "docs_dict = {}\n",
        "for wiki_title in wiki_titles:\n",
        "    doc = SimpleDirectoryReader(\n",
        "        input_files=[f\"data/{wiki_title}.txt\"]\n",
        "    ).load_data()[0] # 太多太消耗资源，这里只取第一部分Documents测试\n",
        "\n",
        "    docs_dict[wiki_title] = doc\n",
        "\n",
        "documents_jordan = [docs_dict[\"Michael Jordan\"]]\n",
        "documents_musk = [docs_dict[\"Elon Musk\"]]\n",
        "\n",
        "print(\"\\n===========Michael Jordan Wiki=============\")\n",
        "print(documents_jordan[0].text)\n",
        "print(\"===========================\")\n",
        "print(documents_jordan[0].metadata)\n",
        "\n",
        "print(\"\\n===========Elon Musk Wiki==================\")\n",
        "print(documents_musk[0].text)\n",
        "print(\"===========================\")\n",
        "print(documents_musk[0].metadata)"
      ]
    },
    {
      "cell_type": "markdown",
      "source": [
        "## Michael Jordan Wiki 处理流程"
      ],
      "metadata": {
        "id": "mlrj7gMU_oAI"
      }
    },
    {
      "cell_type": "markdown",
      "source": [
        "### 分块生成 BaseNode 并指定 Node Id（不指定会随机生成）"
      ],
      "metadata": {
        "id": "xp-e5TUZA-RZ"
      }
    },
    {
      "cell_type": "code",
      "execution_count": null,
      "metadata": {
        "id": "C3oxyjnnpFL1"
      },
      "outputs": [],
      "source": [
        "node_parser = SentenceSplitter(chunk_size=512)\n",
        "\n",
        "base_nodes_jordan = node_parser.get_nodes_from_documents(documents_jordan)\n",
        "for idx, node in enumerate(base_nodes_jordan):\n",
        "    node.id_ = f\"jordan_node-{idx}\"\n"
      ]
    },
    {
      "cell_type": "markdown",
      "source": [
        "### 用 SentenceWindowNodeParser 生成带前后句 Window 的 Sentence Node"
      ],
      "metadata": {
        "id": "02PggAHZBRYz"
      }
    },
    {
      "cell_type": "code",
      "source": [
        "sentence_window_node_parser = SentenceWindowNodeParser.from_defaults(\n",
        "    window_size=3,\n",
        "    window_metadata_key=\"window\",\n",
        "    original_text_metadata_key=\"original_text\")"
      ],
      "metadata": {
        "id": "c805mxNN3HG6"
      },
      "execution_count": null,
      "outputs": []
    },
    {
      "cell_type": "markdown",
      "source": [
        "### 将BaseNode 用 SentenceWindowNodeParser 拆成 SubNode，并索引向 BaseNode"
      ],
      "metadata": {
        "id": "zH5_nWY6BkIQ"
      }
    },
    {
      "cell_type": "code",
      "source": [
        "all_nodes_jordan = []\n",
        "for base_node in base_nodes_jordan:\n",
        "    sub_nodes = sentence_window_node_parser.get_nodes_from_documents([base_node])\n",
        "    sub_inodes = [\n",
        "        IndexNode.from_text_node(sn, base_node.node_id) for sn in sub_nodes\n",
        "    ]\n",
        "    all_nodes_jordan.extend(sub_inodes)\n",
        "    original_node = IndexNode.from_text_node(base_node, base_node.node_id)\n",
        "    all_nodes_jordan.append(original_node)\n",
        "\n",
        "all_nodes_dict_jordan = {n.node_id: n for n in all_nodes_jordan}\n",
        "\n",
        "\n",
        "print(len(all_nodes_jordan))\n",
        "print(all_nodes_jordan[10].relationships)\n"
      ],
      "metadata": {
        "colab": {
          "base_uri": "https://localhost:8080/"
        },
        "id": "8zUyXRDneIvh",
        "outputId": "0945076b-f887-479d-a39d-d0fc84a52c00"
      },
      "execution_count": null,
      "outputs": [
        {
          "output_type": "stream",
          "name": "stdout",
          "text": [
            "746\n",
            "{<NodeRelationship.SOURCE: '1'>: RelatedNodeInfo(node_id='jordan_node-0', node_type=<ObjectType.TEXT: '1'>, metadata={'file_path': 'data/Michael Jordan.txt', 'file_name': 'Michael Jordan.txt', 'file_type': 'text/plain', 'file_size': 66023, 'creation_date': '2024-05-10', 'last_modified_date': '2024-05-10'}, hash='1bc45f6d4aa63317f8f48f096f0ad2f89bfc1e8eddfe9f9c5bf0668584523c1b'), <NodeRelationship.PREVIOUS: '2'>: RelatedNodeInfo(node_id='9a9ebf48-3290-499e-baf7-77cdbddee34e', node_type=<ObjectType.TEXT: '1'>, metadata={'window': 'Jordan joined the Bulls in 1984 as the third overall draft pick and quickly emerged as a league star, entertaining crowds with his prolific scoring while gaining a reputation as one of the best defensive players.  His leaping ability, demonstrated by performing slam dunks from the free-throw line in Slam Dunk Contests, earned him the nicknames \"Air Jordan\" and \"His Airness\".  Jordan won his first NBA title with the Bulls in 1991 and followed that achievement with titles in 1992 and 1993, securing a three-peat.  Following the murder of his father, Jordan abruptly retired from basketball before the 1993–94 NBA season to play Minor League Baseball in the Chicago White Sox organization, but returned to the Bulls in March 1995 and led them to three more championships in 1996, 1997, and 1998, as well as a then-record 72 regular season wins in the 1995–96 NBA season.  He retired for the second time in January 1999, returning for two more NBA seasons from 2001 to 2003 as a member of the Washington Wizards.  During his professional career, he was selected to play for the United States national team, winning four gold medals—at the 1983 Pan American Games, 1984 Summer Olympics, 1992 Tournament of the Americas and 1992 Summer Olympics—while also being undefeated.', 'original_text': 'Following the murder of his father, Jordan abruptly retired from basketball before the 1993–94 NBA season to play Minor League Baseball in the Chicago White Sox organization, but returned to the Bulls in March 1995 and led them to three more championships in 1996, 1997, and 1998, as well as a then-record 72 regular season wins in the 1995–96 NBA season. ', 'file_path': 'data/Michael Jordan.txt', 'file_name': 'Michael Jordan.txt', 'file_type': 'text/plain', 'file_size': 66023, 'creation_date': '2024-05-10', 'last_modified_date': '2024-05-10'}, hash='33d383499810877cc12654f1d5c95466125d1521f455aef3653b11a195a7a6bc'), <NodeRelationship.NEXT: '3'>: RelatedNodeInfo(node_id='e10039d5-9e98-415c-b10f-331d070b8359', node_type=<ObjectType.TEXT: '1'>, metadata={'window': 'Jordan won his first NBA title with the Bulls in 1991 and followed that achievement with titles in 1992 and 1993, securing a three-peat.  Following the murder of his father, Jordan abruptly retired from basketball before the 1993–94 NBA season to play Minor League Baseball in the Chicago White Sox organization, but returned to the Bulls in March 1995 and led them to three more championships in 1996, 1997, and 1998, as well as a then-record 72 regular season wins in the 1995–96 NBA season.  He retired for the second time in January 1999, returning for two more NBA seasons from 2001 to 2003 as a member of the Washington Wizards.  During his professional career, he was selected to play for the United States national team, winning four gold medals—at the 1983 Pan American Games, 1984 Summer Olympics, 1992 Tournament of the Americas and 1992 Summer Olympics—while also being undefeated.', 'original_text': 'During his professional career, he was selected to play for the United States national team, winning four gold medals—at the 1983 Pan American Games, 1984 Summer Olympics, 1992 Tournament of the Americas and 1992 Summer Olympics—while also being undefeated.'}, hash='45e894a287017c995112d099ba134e1583f83dffda41524242cebe9ccbc0a8ed')}\n"
          ]
        }
      ]
    },
    {
      "cell_type": "markdown",
      "source": [
        "### 通过 VectorStoreIndex 将 Michael Jordan Wiki 的所有节点入向量数据库"
      ],
      "metadata": {
        "id": "5yrZ65w0B8AX"
      }
    },
    {
      "cell_type": "code",
      "source": [
        "vector_index_chunk_jordan = VectorStoreIndex(all_nodes_jordan)"
      ],
      "metadata": {
        "id": "gARNG2Z8eYzW"
      },
      "execution_count": null,
      "outputs": []
    },
    {
      "cell_type": "markdown",
      "source": [
        "### 使用 RecursiveRetriever 来做递归检索，当问题相似性召回子节点，会索引到父节点获取更丰富的内容"
      ],
      "metadata": {
        "id": "l-wJb7pxCL1N"
      }
    },
    {
      "cell_type": "code",
      "source": [
        "vector_retriever_chunk_jordan = vector_index_chunk_jordan.as_retriever(similarity_top_k=5)\n",
        "\n",
        "recursive_retriever_jordan = RecursiveRetriever(\n",
        "    \"vector\",\n",
        "    retriever_dict={\"vector\": vector_retriever_chunk_jordan},\n",
        "    node_dict=all_nodes_dict_jordan,\n",
        "    verbose=True,\n",
        ")\n"
      ],
      "metadata": {
        "id": "BwBtEXs4ezCE"
      },
      "execution_count": null,
      "outputs": []
    },
    {
      "cell_type": "markdown",
      "source": [
        "### 测试 Michael Jordan Wiki Retriever"
      ],
      "metadata": {
        "id": "27ULFMsQwqHP"
      }
    },
    {
      "cell_type": "code",
      "source": [
        "nodes = recursive_retriever_jordan.retrieve(\n",
        "    \"Tell me about a celebrity from the United States\"\n",
        ")\n",
        "for node in nodes:\n",
        "    print(node.node.get_content())\n"
      ],
      "metadata": {
        "colab": {
          "base_uri": "https://localhost:8080/"
        },
        "id": "HifP_l_jvFB1",
        "outputId": "f6814757-ffec-432d-9241-97fd4786d08e"
      },
      "execution_count": null,
      "outputs": [
        {
          "output_type": "stream",
          "name": "stdout",
          "text": [
            "\u001b[1;3;34mRetrieving with query id None: Tell me about a celebrity from the United States\n",
            "\u001b[0m\u001b[1;3;38;5;200mRetrieved node with id, entering: jordan_node-0\n",
            "\u001b[0m\u001b[1;3;34mRetrieving with query id jordan_node-0: Tell me about a celebrity from the United States\n",
            "\u001b[0m\u001b[1;3;38;5;200mRetrieved node with id, entering: jordan_node-23\n",
            "\u001b[0m\u001b[1;3;34mRetrieving with query id jordan_node-23: Tell me about a celebrity from the United States\n",
            "\u001b[0m\u001b[1;3;38;5;200mRetrieved node with id, entering: jordan_node-39\n",
            "\u001b[0m\u001b[1;3;34mRetrieving with query id jordan_node-39: Tell me about a celebrity from the United States\n",
            "\u001b[0m\u001b[1;3;38;5;200mRetrieved node with id, entering: jordan_node-40\n",
            "\u001b[0m\u001b[1;3;34mRetrieving with query id jordan_node-40: Tell me about a celebrity from the United States\n",
            "\u001b[0m\u001b[1;3;38;5;200mRetrieved node with id, entering: jordan_node-42\n",
            "\u001b[0m\u001b[1;3;34mRetrieving with query id jordan_node-42: Tell me about a celebrity from the United States\n",
            "\u001b[0mMichael Jeffrey Jordan (born February 17, 1963), also known by his initials MJ, is an American businessman and former professional basketball player. He played fifteen seasons in the National Basketball Association (NBA) between 1984 and 2003, winning six NBA championships with the Chicago Bulls. He was integral in popularizing basketball and the NBA around the world in the 1980s and 1990s, becoming a global cultural icon. His profile on the NBA website states, \"By acclamation, Michael Jordan is the greatest basketball player of all time.\"\n",
            "Jordan played college basketball with the North Carolina Tar Heels. As a freshman, he was a member of the Tar Heels' national championship team in 1982. Jordan joined the Bulls in 1984 as the third overall draft pick and quickly emerged as a league star, entertaining crowds with his prolific scoring while gaining a reputation as one of the best defensive players. His leaping ability, demonstrated by performing slam dunks from the free-throw line in Slam Dunk Contests, earned him the nicknames \"Air Jordan\" and \"His Airness\". Jordan won his first NBA title with the Bulls in 1991 and followed that achievement with titles in 1992 and 1993, securing a three-peat. Following the murder of his father, Jordan abruptly retired from basketball before the 1993–94 NBA season to play Minor League Baseball in the Chicago White Sox organization, but returned to the Bulls in March 1995 and led them to three more championships in 1996, 1997, and 1998, as well as a then-record 72 regular season wins in the 1995–96 NBA season. He retired for the second time in January 1999, returning for two more NBA seasons from 2001 to 2003 as a member of the Washington Wizards. During his professional career, he was selected to play for the United States national team, winning four gold medals—at the 1983 Pan American Games, 1984 Summer Olympics, 1992 Tournament of the Americas and 1992 Summer Olympics—while also being undefeated.\n",
            "== National team career ==\n",
            "\n",
            "Jordan made his debut for the U.S. national basketball team at the 1983 Pan American Games in Caracas, Venezuela. He led the team in scoring with 17.3 ppg as the U.S., coached by Jack Hartman, won the gold medal. A year later, he won another gold medal in the 1984 Summer Olympics. The 1984 U.S. team was coached by Bob Knight and featured players such as Patrick Ewing, Sam Perkins, Chris Mullin, Steve Alford, and Wayman Tisdale. Jordan led the team in scoring, averaging 17.1 ppg for the tournament.\n",
            "In 1992, Jordan was a member of the star-studded squad that was dubbed the \"Dream Team\", which included Larry Bird and Magic Johnson. The team won two gold medals: the first in the 1992 Tournament of the Americas, and the second in the 1992 Summer Olympics. He was the only player to start all eight games in the Olympics, averaged 14.9 ppg, and finished second on the team in scoring. Jordan was undefeated in the four tournaments he played for the United States national team, winning all 30 games he took part in.\n",
            "\n",
            "\n",
            "== Player profile ==\n",
            "\n",
            "Jordan was a shooting guard who could also play as a small forward, the position he would primarily play during his second return to professional basketball with the Washington Wizards, and as a point guard. Jordan was known throughout his career as a strong clutch performer. With the Bulls, he decided 25 games with field goals or free throws in the last 30 seconds, including two NBA Finals games and five other playoff contests. His competitiveness was visible in his prolific trash talk and well-known work ethic. Jordan often used perceived slights to fuel his performances. Sportswriter Wright Thompson described him as \"a killer, in the Darwinian sense of the word, immediately sensing and attacking someone's weakest spot\". As the Bulls organization built the franchise around Jordan, management had to trade away players who were not \"tough enough\" to compete with him in practice. To improve his defense, he spent hours studying film of opponents. On offense, he relied more upon instinct and improvization.\n",
            "== Personal life ==\n",
            "\n",
            "Jordan's nephew through his brother Larry, Justin Jordan, played NCAA Division I basketball for the UNC Greensboro Spartans and is a scout for the Charlotte Hornets.\n",
            "Jordan married Juanita Vanoy at A Little White Wedding Chapel in Las Vegas on September 2, 1989. They had two sons, Jeffrey and Marcus, and a daughter, Jasmine. The Jordans filed for divorce on January 4, 2002, citing irreconcilable differences, but reconciled shortly thereafter. They again filed for divorce and were granted a final decree of dissolution of marriage on December 29, 2006, commenting that the decision was made \"mutually and amicably\". It is reported that Juanita received a $168 million settlement (equivalent to $254 million in 2023), making it the largest celebrity divorce settlement on public record at the time.\n",
            "In 1991, Jordan purchased a lot in Highland Park, Illinois, where he planned to build a 56,000-square-foot (5,200 m2) mansion. It was completed in 1995. He listed the mansion for sale in 2012. He also owns homes in North Carolina and Jupiter Island, Florida.\n",
            "On July 21, 2006, a judge in Cook County, Illinois, determined that Jordan did not owe his alleged former lover Karla Knafel $5 million in a breach of contract claim. Jordan had allegedly paid Knafel $250,000 to keep their relationship a secret. Knafel claimed Jordan promised her $5 million for remaining silent and agreeing not to file a paternity suit after Knafel learned she was pregnant in 1991; a DNA test showed Jordan was not the father of the child.\n",
            "Jordan proposed to his longtime girlfriend, Cuban-American model Yvette Prieto, on Christmas 2011, and they were married on April 27, 2013, at Bethesda-by-the-Sea Episcopal Church. It was announced on November 30, 2013, that the two were expecting their first child together. On February 11, 2014, Prieto gave birth to identical twin daughters named Victoria and Ysabel. In 2019, Jordan became a grandfather when his daughter Jasmine gave birth to a son, whose father is professional basketball player Rakeem Christmas.\n",
            "\n",
            "\n",
            "== Media figure and business interests ==\n",
            "\n",
            "\n",
            "=== Endorsements ===\n",
            "\n",
            "Jordan is one of the most marketed sports figures in history.\n",
            "== Media figure and business interests ==\n",
            "\n",
            "\n",
            "=== Endorsements ===\n",
            "\n",
            "Jordan is one of the most marketed sports figures in history. He has been a major spokesman for such brands as Nike, Coca-Cola, Chevrolet, Gatorade, McDonald's, Ball Park Franks, Rayovac, Wheaties, Hanes, and MCI. Jordan has had a long relationship with Gatorade, appearing in over 20 commercials for the company since 1991, including the \"Be Like Mike\" commercials in which a song was sung by children wishing to be like Jordan.\n",
            "Nike created a signature shoe for Jordan, called the Air Jordan, in 1984. One of Jordan's more popular commercials for the shoe involved Spike Lee playing the part of Mars Blackmon. In the commercials, Lee, as Blackmon, attempted to find the source of Jordan's abilities and became convinced that \"it's gotta be the shoes\". The hype and demand for the shoes even brought on a spate of \"shoe-jackings\", in which people were robbed of their sneakers at gunpoint. Subsequently, Nike spun off the Jordan line into its own division named the \"Jordan Brand\". The company features a list of athletes and celebrities as endorsers. The brand has also sponsored college sports programs such as those of North Carolina, UCLA, California, Oklahoma, Florida, Georgetown, and Marquette.\n",
            "Jordan also has been associated with the Looney Tunes cartoon characters. A Nike commercial shown during 1992's Super Bowl XXVI featured Jordan and Bugs Bunny playing basketball. The Super Bowl commercial inspired the 1996 live action/animated film Space Jam, which starred Jordan and Bugs in a fictional story set during the former's first retirement from basketball. They have subsequently appeared together in several commercials for MCI. Jordan also made an appearance in the music video for Michael Jackson's \"Jam\" (1992).\n",
            "Since 2008, Jordan's yearly income from endorsements is estimated to be over $40 million. In addition, when Jordan's power at the ticket gates was at its highest point, the Bulls regularly sold out both their home and road games. Due to this, Jordan set records in player salary by signing annual contracts worth in excess of US$30 million per season. An academic study found that Jordan's first NBA comeback resulted in an increase in the market capitalization of his client firms of more than $1 billion.\n",
            "Jordan also made an appearance in the music video for Michael Jackson's \"Jam\" (1992).\n",
            "Since 2008, Jordan's yearly income from endorsements is estimated to be over $40 million. In addition, when Jordan's power at the ticket gates was at its highest point, the Bulls regularly sold out both their home and road games. Due to this, Jordan set records in player salary by signing annual contracts worth in excess of US$30 million per season. An academic study found that Jordan's first NBA comeback resulted in an increase in the market capitalization of his client firms of more than $1 billion.\n",
            "Most of Jordan's endorsement deals, including his first deal with Nike, were engineered by his agent, David Falk. Jordan has described Falk as \"the best at what he does\" and that \"marketing-wise, he's great. He's the one who came up with the concept of 'Air Jordan'.\"\n",
            "\n",
            "\n",
            "=== Business ventures ===\n",
            "In June 2010, Jordan was ranked by Forbes as the 20th-most-powerful celebrity in the world, with $55 million earned between June 2009 and June 2010. According to Forbes, Jordan Brand generates $1 billion in sales for Nike. In June 2014, Jordan was named the first NBA player to become a billionaire, after he increased his stake in the Charlotte Hornets from 80% to 89.5%. On January 20, 2015, Jordan was honored with the Charlotte Business Journal's Business Person of the Year for 2014. In 2017, he became a part owner of the Miami Marlins of Major League Baseball.\n",
            "Forbes designated Jordan as the athlete with the highest career earnings in 2017. From his Jordan Brand income and endorsements, Jordan's 2015 income was an estimated $110 million, the most of any retired athlete. As of 2024, his net worth is estimated at $3.2 billion by Forbes, making him the fifth-richest African-American, behind Robert F. Smith, David Steward, Oprah Winfrey, and Rihanna.\n",
            "Jordan co-owns an automotive group which bears his name. The company has a Nissan dealership in Durham, North Carolina, acquired in 1990, and formerly had a Lincoln–Mercury dealership from 1995 until its closure in June 2009. The company also owned a Nissan franchise in Glen Burnie, Maryland. The restaurant industry is another business interest of Jordan's. Restaurants he has owned include a steakhouse in New York City's Grand Central Terminal, among others; that restaurant closed in 2018. Jordan is the majority investor in a golf course, Grove XXIII in Hobe Sound, Florida.\n",
            "In September 2020, Jordan became an investor and advisor for DraftKings.\n"
          ]
        }
      ]
    },
    {
      "cell_type": "markdown",
      "source": [
        "## Elon_Musk Wiki 处理流程"
      ],
      "metadata": {
        "id": "M-MEFaFIqjCx"
      }
    },
    {
      "cell_type": "markdown",
      "source": [
        "### 分块生成 BaseNode 并指定 Node Id（不指定会随机生成）"
      ],
      "metadata": {
        "id": "p48tbIeMCoeV"
      }
    },
    {
      "cell_type": "code",
      "source": [
        "base_nodes_musk = node_parser.get_nodes_from_documents(documents_musk)\n",
        "\n",
        "for idx, node in enumerate(base_nodes_musk):\n",
        "    node.id_ = f\"musk_node-{idx}\"\n"
      ],
      "metadata": {
        "id": "dCTpPZRnq1sZ"
      },
      "execution_count": null,
      "outputs": []
    },
    {
      "cell_type": "markdown",
      "source": [
        "### 为每个 BaseNode 生成摘要，并将摘要生成 IndexNode 并入 Node集合中"
      ],
      "metadata": {
        "id": "0DI8VZl5Cue5"
      }
    },
    {
      "cell_type": "code",
      "source": [
        "node_to_metadata_musk = {}\n",
        "\n",
        "extractor = SummaryExtractor(llm=llm_summarize, summaries=[\"self\"], show_progress=True)\n",
        "metadata_dicts = extractor.extract(base_nodes_musk)\n",
        "\n",
        "for node, metadata in zip(base_nodes_musk, metadata_dicts):\n",
        "    if node.node_id not in node_to_metadata_musk:\n",
        "        node_to_metadata_musk[node.node_id] = metadata\n",
        "    else:\n",
        "        node_to_metadata_musk[node.node_id].update(metadata)\n",
        "\n",
        "\n",
        "all_nodes_musk = copy.deepcopy(base_nodes_musk)\n",
        "for node_id, metadata in node_to_metadata_musk.items():\n",
        "    for val in metadata.values():\n",
        "        all_nodes_musk.append(IndexNode(text=val, index_id=node_id))\n",
        "\n",
        "all_nodes_dict_musk = {n.node_id: n for n in all_nodes_musk}"
      ],
      "metadata": {
        "id": "m5XOO26rqiOU"
      },
      "execution_count": null,
      "outputs": []
    },
    {
      "cell_type": "markdown",
      "source": [
        "### 通过 VectorStoreIndex 将 Elon_Musk Wiki 的所有节点入向量数据库"
      ],
      "metadata": {
        "id": "11Fz3sdyDa86"
      }
    },
    {
      "cell_type": "code",
      "source": [
        "vector_index_chunk_musk = VectorStoreIndex(all_nodes_musk)"
      ],
      "metadata": {
        "id": "C4QxEVdKsRjz"
      },
      "execution_count": null,
      "outputs": []
    },
    {
      "cell_type": "code",
      "source": [
        "vector_retriever_musk = vector_index_chunk_musk.as_retriever(similarity_top_k=5)\n",
        "\n",
        "retriever_chunk_musk = RecursiveRetriever(\n",
        "    \"vector\",\n",
        "    retriever_dict={\"vector\": vector_retriever_musk},\n",
        "    node_dict=all_nodes_dict_musk,\n",
        "    verbose=True,\n",
        ")"
      ],
      "metadata": {
        "id": "RiKoC4_OwfdH"
      },
      "execution_count": null,
      "outputs": []
    },
    {
      "cell_type": "markdown",
      "source": [
        "### 创建 BM25 Retriever来补充 Vector 分块较大的细节缺失，并通过 QueryFusionRetriever 来倒数重排提升结果质量"
      ],
      "metadata": {
        "id": "hKloUGfLDmp0"
      }
    },
    {
      "cell_type": "code",
      "source": [
        "bm25_retriever_musk = BM25Retriever.from_defaults(docstore=vector_index_chunk_musk.docstore, similarity_top_k=5)\n",
        "\n",
        "\n",
        "hybrid_retriever_musk = QueryFusionRetriever(\n",
        "    [retriever_chunk_musk, bm25_retriever_musk],\n",
        "    llm=llm,\n",
        "    similarity_top_k=5,\n",
        "    num_queries=4,  # set this to 1 to disable query generation\n",
        "    mode=\"relative_score\",\n",
        "    use_async=True,\n",
        "    verbose=True\n",
        ")"
      ],
      "metadata": {
        "id": "3IM-ShRzpWSC"
      },
      "execution_count": null,
      "outputs": []
    },
    {
      "cell_type": "markdown",
      "source": [
        "### 测试 Elon Musk Wiki Retriever"
      ],
      "metadata": {
        "id": "eCFTJnYj7470"
      }
    },
    {
      "cell_type": "code",
      "source": [
        "nodes = hybrid_retriever_musk.retrieve(\n",
        "    \"Tell me about the childhood of a billionaire who started at company at he age of 16\"\n",
        ")\n",
        "for node in nodes:\n",
        "    print(node.node.get_content())\n"
      ],
      "metadata": {
        "colab": {
          "base_uri": "https://localhost:8080/"
        },
        "id": "7w5AEgJZyVQK",
        "outputId": "ae76f006-fd6d-4b89-b700-b6b29a5fbb49"
      },
      "execution_count": null,
      "outputs": [
        {
          "output_type": "stream",
          "name": "stdout",
          "text": [
            "Generated queries:\n",
            "Here are three search queries related to the input query:\n",
            "1. \"Biographies of self-made billionaires who started their business as teenagers\"\n",
            "2. \"Successful entrepreneurs who founded companies in their teenage years\"\n",
            "3. \"Rags-to-riches stories of billionaires who started their journey at 16\"\n",
            "Let me know if you'd like me to generate more!\n",
            "\u001b[1;3;34mRetrieving with query id None: Tell me about the childhood of a billionaire who started at company at he age of 16\n",
            "\u001b[0m"
          ]
        },
        {
          "output_type": "stream",
          "name": "stderr",
          "text": [
            "WARNING:llama_index.retrievers.bm25.base:BM25Retriever does not support embeddings, skipping...\n"
          ]
        },
        {
          "output_type": "stream",
          "name": "stdout",
          "text": [
            "\u001b[1;3;38;5;200mRetrieving text node: Securities and Exchange Commission (SEC) sued Musk, alleging that he had falsely announced that he had secured funding for a private takeover of Tesla. To settle the case, Musk stepped down as the chairman of Tesla and paid a $20 million fine. In 2022, he acquired Twitter for $44 billion. He subsequently merged the company into newly created X Corp. and rebranded the service as X the following year. In March 2023, Musk founded xAI, an artificial intelligence company.\n",
            "Musk has expressed views that have made him a polarizing figure. He has been criticized for making unscientific and misleading statements, including COVID-19 misinformation and antisemitic conspiracy theories. His ownership of Twitter has been similarly controversial, being marked by layoffs of large numbers of employees, an increase in hate speech and misinformation and disinformation on the website, and changes to Twitter Blue verification.\n",
            "\n",
            "\n",
            "== Early life and education ==\n",
            "\n",
            "\n",
            "=== Childhood and family ===\n",
            "\n",
            "Elon Reeve Musk was born on June 28, 1971, in Pretoria, South Africa's administrative capital. He is of British and Pennsylvania Dutch ancestry. His mother, Maye Musk (née Haldeman), is a model and dietitian born in Saskatchewan, Canada, and raised in South Africa. His father, Errol Musk, is a South African electromechanical engineer, pilot, sailor, consultant, emerald dealer, and property developer, who partly owned a rental lodge at the Timbavati Private Nature Reserve. Elon has a younger brother, Kimbal, and a younger sister, Tosca.\n",
            "The family was wealthy during Elon's youth. Despite both Musk and Errol previously stating that Errol was a part owner of a Zambian emerald mine, in 2023, Errol recounted that the deal he made was to receive \"a portion of the emeralds produced at three small mines.\" Errol was elected to the Pretoria City Council as a representative of the anti-apartheid Progressive Party and has said that his children shared their father's dislike of apartheid.  \n",
            "Elon's maternal grandfather, Joshua N. Haldeman, was an American-born Canadian who took his family on record-breaking journeys to Africa and Australia in a single-engine Bellanca airplane. \n",
            "After his parents divorced in 1980, Elon chose to live primarily with his father. Elon later regretted his decision and became estranged from his father. In one incident, after having called a boy whose father had committed suicide \"stupid\", Elon was thrown down concrete steps and beaten severely by the boy and his friends, leading to him being hospitalized for his injuries. Elon has four paternal half-siblings.\n",
            "Elon was an enthusiastic reader of books, later attributing his success in part to having read The Lord of the Rings, the Foundation series, and The Hitchhiker's Guide to the Galaxy. At age ten, he developed an interest in computing and video games, teaching himself how to program from the VIC-20 user manual. At age twelve, Elon sold his BASIC-based game Blastar to PC and Office Technology magazine for approximately $500.\n",
            "\u001b[0m\u001b[1;3;38;5;200mRetrieving text node: Elon Reeve Musk ( EE-lon; born June 28, 1971) is a businessman and investor. He is the founder, chairman, CEO, and CTO of SpaceX; angel investor, CEO, product architect, and former chairman of Tesla, Inc.; owner, executive chairman, and CTO of X Corp.; founder of the Boring Company and xAI; co-founder of Neuralink and OpenAI; and president of the Musk Foundation. He is one of the wealthiest people in the world; as of April 2024, Forbes estimates his net worth to be $178 billion. \n",
            "A member of the wealthy South African Musk family, Musk was born in Pretoria and briefly attended the University of Pretoria before immigrating to Canada at age 18, acquiring citizenship through his Canadian-born mother. Two years later, he matriculated at Queen's University at Kingston in Canada. Musk later transferred to the University of Pennsylvania and received bachelor's degrees in economics and physics. He moved to California in 1995 to attend Stanford University, but dropped out after two days and, with his brother Kimbal, co-founded online city guide software company Zip2. The startup was acquired by Compaq for $307 million in 1999. That same year, Musk co-founded X.com, a direct bank. X.com merged with Confinity in 2000 to form PayPal. In October 2002, eBay acquired PayPal for $1.5 billion. Using $100 million of the money he made from the sale of PayPal, Musk founded SpaceX, a spaceflight services company, in 2002. \n",
            "In 2004, Musk became an early investor in electric vehicle manufacturer Tesla Motors, Inc. (later Tesla, Inc.). He became the company's chairman and product architect, assuming the position of CEO in 2008. In 2006, Musk helped create SolarCity, a solar-energy company that was acquired by Tesla in 2016 and became Tesla Energy. In 2013, he proposed a hyperloop high-speed vactrain transportation system. In 2015, he co-founded OpenAI, a nonprofit artificial intelligence research company. The following year, Musk co-founded Neuralink—a neurotechnology company developing brain–computer interfaces—and the Boring Company, a tunnel construction company. In 2018, the U.S.\n",
            "\u001b[0m\u001b[1;3;38;5;200mRetrieving text node: Using $100 million of the money he made from the sale of PayPal, Musk founded SpaceX, a spaceflight services company, in 2002. \n",
            "In 2004, Musk became an early investor in electric vehicle manufacturer Tesla Motors, Inc. (later Tesla, Inc.). He became the company's chairman and product architect, assuming the position of CEO in 2008. In 2006, Musk helped create SolarCity, a solar-energy company that was acquired by Tesla in 2016 and became Tesla Energy. In 2013, he proposed a hyperloop high-speed vactrain transportation system. In 2015, he co-founded OpenAI, a nonprofit artificial intelligence research company. The following year, Musk co-founded Neuralink—a neurotechnology company developing brain–computer interfaces—and the Boring Company, a tunnel construction company. In 2018, the U.S. Securities and Exchange Commission (SEC) sued Musk, alleging that he had falsely announced that he had secured funding for a private takeover of Tesla. To settle the case, Musk stepped down as the chairman of Tesla and paid a $20 million fine. In 2022, he acquired Twitter for $44 billion. He subsequently merged the company into newly created X Corp. and rebranded the service as X the following year. In March 2023, Musk founded xAI, an artificial intelligence company.\n",
            "Musk has expressed views that have made him a polarizing figure. He has been criticized for making unscientific and misleading statements, including COVID-19 misinformation and antisemitic conspiracy theories. His ownership of Twitter has been similarly controversial, being marked by layoffs of large numbers of employees, an increase in hate speech and misinformation and disinformation on the website, and changes to Twitter Blue verification.\n",
            "\n",
            "\n",
            "== Early life and education ==\n",
            "\u001b[0m\u001b[1;3;38;5;200mRetrieved node with id, entering: musk_node-1\n",
            "\u001b[0m\u001b[1;3;34mRetrieving with query id musk_node-1: Tell me about the childhood of a billionaire who started at company at he age of 16\n",
            "\u001b[0m\u001b[1;3;38;5;200mRetrieved node with id, entering: musk_node-0\n",
            "\u001b[0m\u001b[1;3;34mRetrieving with query id musk_node-0: Tell me about the childhood of a billionaire who started at company at he age of 16\n",
            "\u001b[0mBM25Retriever does not support embeddings, skipping...\n",
            "BM25Retriever does not support embeddings, skipping...\n",
            "BM25Retriever does not support embeddings, skipping...\n",
            "BM25Retriever does not support embeddings, skipping...\n",
            "\u001b[1;3;34mRetrieving with query id None: Here are three search queries related to the input query:\n",
            "\u001b[0m"
          ]
        },
        {
          "output_type": "stream",
          "name": "stderr",
          "text": [
            "WARNING:llama_index.retrievers.bm25.base:BM25Retriever does not support embeddings, skipping...\n"
          ]
        },
        {
          "output_type": "stream",
          "name": "stdout",
          "text": [
            "\u001b[1;3;38;5;200mRetrieved node with id, entering: musk_node-5\n",
            "\u001b[0m\u001b[1;3;34mRetrieving with query id musk_node-5: Here are three search queries related to the input query:\n",
            "\u001b[0m\u001b[1;3;38;5;200mRetrieved node with id, entering: musk_node-13\n",
            "\u001b[0m\u001b[1;3;34mRetrieving with query id musk_node-13: Here are three search queries related to the input query:\n",
            "\u001b[0m\u001b[1;3;38;5;200mRetrieved node with id, entering: musk_node-3\n",
            "\u001b[0m\u001b[1;3;34mRetrieving with query id musk_node-3: Here are three search queries related to the input query:\n",
            "\u001b[0m\u001b[1;3;38;5;200mRetrieved node with id, entering: musk_node-1\n",
            "\u001b[0m\u001b[1;3;34mRetrieving with query id musk_node-1: Here are three search queries related to the input query:\n",
            "\u001b[0m\u001b[1;3;38;5;200mRetrieved node with id, entering: musk_node-19\n",
            "\u001b[0m\u001b[1;3;34mRetrieving with query id musk_node-19: Here are three search queries related to the input query:\n",
            "\u001b[0mBM25Retriever does not support embeddings, skipping...\n",
            "BM25Retriever does not support embeddings, skipping...\n",
            "BM25Retriever does not support embeddings, skipping...\n",
            "BM25Retriever does not support embeddings, skipping...\n",
            "\u001b[1;3;34mRetrieving with query id None: 1. \"Biographies of self-made billionaires who started their business as teenagers\"\n",
            "\u001b[0m"
          ]
        },
        {
          "output_type": "stream",
          "name": "stderr",
          "text": [
            "WARNING:llama_index.retrievers.bm25.base:BM25Retriever does not support embeddings, skipping...\n"
          ]
        },
        {
          "output_type": "stream",
          "name": "stdout",
          "text": [
            "\u001b[1;3;38;5;200mRetrieved node with id, entering: musk_node-0\n",
            "\u001b[0m\u001b[1;3;34mRetrieving with query id musk_node-0: 1. \"Biographies of self-made billionaires who started their business as teenagers\"\n",
            "\u001b[0m\u001b[1;3;38;5;200mRetrieved node with id, entering: musk_node-5\n",
            "\u001b[0m\u001b[1;3;34mRetrieving with query id musk_node-5: 1. \"Biographies of self-made billionaires who started their business as teenagers\"\n",
            "\u001b[0m\u001b[1;3;38;5;200mRetrieved node with id, entering: musk_node-3\n",
            "\u001b[0m\u001b[1;3;34mRetrieving with query id musk_node-3: 1. \"Biographies of self-made billionaires who started their business as teenagers\"\n",
            "\u001b[0m\u001b[1;3;38;5;200mRetrieved node with id, entering: musk_node-1\n",
            "\u001b[0m\u001b[1;3;34mRetrieving with query id musk_node-1: 1. \"Biographies of self-made billionaires who started their business as teenagers\"\n",
            "\u001b[0m\u001b[1;3;38;5;200mRetrieved node with id, entering: musk_node-4\n",
            "\u001b[0m\u001b[1;3;34mRetrieving with query id musk_node-4: 1. \"Biographies of self-made billionaires who started their business as teenagers\"\n",
            "\u001b[0mBM25Retriever does not support embeddings, skipping...\n",
            "BM25Retriever does not support embeddings, skipping...\n",
            "BM25Retriever does not support embeddings, skipping...\n",
            "BM25Retriever does not support embeddings, skipping...\n",
            "\u001b[1;3;34mRetrieving with query id None: 2. \"Successful entrepreneurs who founded companies in their teenage years\"\n",
            "\u001b[0m"
          ]
        },
        {
          "output_type": "stream",
          "name": "stderr",
          "text": [
            "WARNING:llama_index.retrievers.bm25.base:BM25Retriever does not support embeddings, skipping...\n"
          ]
        },
        {
          "output_type": "stream",
          "name": "stdout",
          "text": [
            "\u001b[1;3;38;5;200mRetrieved node with id, entering: musk_node-3\n",
            "\u001b[0m\u001b[1;3;34mRetrieving with query id musk_node-3: 2. \"Successful entrepreneurs who founded companies in their teenage years\"\n",
            "\u001b[0m\u001b[1;3;38;5;200mRetrieving text node: Elon Reeve Musk ( EE-lon; born June 28, 1971) is a businessman and investor. He is the founder, chairman, CEO, and CTO of SpaceX; angel investor, CEO, product architect, and former chairman of Tesla, Inc.; owner, executive chairman, and CTO of X Corp.; founder of the Boring Company and xAI; co-founder of Neuralink and OpenAI; and president of the Musk Foundation. He is one of the wealthiest people in the world; as of April 2024, Forbes estimates his net worth to be $178 billion. \n",
            "A member of the wealthy South African Musk family, Musk was born in Pretoria and briefly attended the University of Pretoria before immigrating to Canada at age 18, acquiring citizenship through his Canadian-born mother. Two years later, he matriculated at Queen's University at Kingston in Canada. Musk later transferred to the University of Pennsylvania and received bachelor's degrees in economics and physics. He moved to California in 1995 to attend Stanford University, but dropped out after two days and, with his brother Kimbal, co-founded online city guide software company Zip2. The startup was acquired by Compaq for $307 million in 1999. That same year, Musk co-founded X.com, a direct bank. X.com merged with Confinity in 2000 to form PayPal. In October 2002, eBay acquired PayPal for $1.5 billion. Using $100 million of the money he made from the sale of PayPal, Musk founded SpaceX, a spaceflight services company, in 2002. \n",
            "In 2004, Musk became an early investor in electric vehicle manufacturer Tesla Motors, Inc. (later Tesla, Inc.). He became the company's chairman and product architect, assuming the position of CEO in 2008. In 2006, Musk helped create SolarCity, a solar-energy company that was acquired by Tesla in 2016 and became Tesla Energy. In 2013, he proposed a hyperloop high-speed vactrain transportation system. In 2015, he co-founded OpenAI, a nonprofit artificial intelligence research company. The following year, Musk co-founded Neuralink—a neurotechnology company developing brain–computer interfaces—and the Boring Company, a tunnel construction company. In 2018, the U.S.\n",
            "\u001b[0m\u001b[1;3;38;5;200mRetrieved node with id, entering: musk_node-5\n",
            "\u001b[0m\u001b[1;3;34mRetrieving with query id musk_node-5: 2. \"Successful entrepreneurs who founded companies in their teenage years\"\n",
            "\u001b[0m\u001b[1;3;38;5;200mRetrieving text node: Using $100 million of the money he made from the sale of PayPal, Musk founded SpaceX, a spaceflight services company, in 2002. \n",
            "In 2004, Musk became an early investor in electric vehicle manufacturer Tesla Motors, Inc. (later Tesla, Inc.). He became the company's chairman and product architect, assuming the position of CEO in 2008. In 2006, Musk helped create SolarCity, a solar-energy company that was acquired by Tesla in 2016 and became Tesla Energy. In 2013, he proposed a hyperloop high-speed vactrain transportation system. In 2015, he co-founded OpenAI, a nonprofit artificial intelligence research company. The following year, Musk co-founded Neuralink—a neurotechnology company developing brain–computer interfaces—and the Boring Company, a tunnel construction company. In 2018, the U.S. Securities and Exchange Commission (SEC) sued Musk, alleging that he had falsely announced that he had secured funding for a private takeover of Tesla. To settle the case, Musk stepped down as the chairman of Tesla and paid a $20 million fine. In 2022, he acquired Twitter for $44 billion. He subsequently merged the company into newly created X Corp. and rebranded the service as X the following year. In March 2023, Musk founded xAI, an artificial intelligence company.\n",
            "Musk has expressed views that have made him a polarizing figure. He has been criticized for making unscientific and misleading statements, including COVID-19 misinformation and antisemitic conspiracy theories. His ownership of Twitter has been similarly controversial, being marked by layoffs of large numbers of employees, an increase in hate speech and misinformation and disinformation on the website, and changes to Twitter Blue verification.\n",
            "\n",
            "\n",
            "== Early life and education ==\n",
            "\u001b[0m\u001b[1;3;38;5;200mRetrieving text node: == Business career ==\n",
            "\n",
            "\n",
            "=== Zip2 ===\n",
            "\n",
            "In 1995, Musk, his brother Kimbal, and Greg Kouri founded Global Link Information Network, later renamed to Zip2. The company was financed mainly through a financing round of $200,000, of which 10% was contributed by his father Errol Musk. The company developed an Internet city guide with maps, directions, and yellow pages, and marketed it to newspapers. They worked at a small rented office in Palo Alto, with Musk coding the website every night. Eventually, Zip2 obtained contracts with The New York Times and the Chicago Tribune. The brothers persuaded the board of directors to abandon a merger with CitySearch; however, Musk's attempts to become CEO were thwarted. Compaq acquired Zip2 for $307 million in cash in February 1999, and Musk received $22 million for his 7-percent share.\n",
            "\u001b[0mBM25Retriever does not support embeddings, skipping...\n",
            "BM25Retriever does not support embeddings, skipping...\n",
            "BM25Retriever does not support embeddings, skipping...\n",
            "BM25Retriever does not support embeddings, skipping...\n",
            "Elon Reeve Musk ( EE-lon; born June 28, 1971) is a businessman and investor. He is the founder, chairman, CEO, and CTO of SpaceX; angel investor, CEO, product architect, and former chairman of Tesla, Inc.; owner, executive chairman, and CTO of X Corp.; founder of the Boring Company and xAI; co-founder of Neuralink and OpenAI; and president of the Musk Foundation. He is one of the wealthiest people in the world; as of April 2024, Forbes estimates his net worth to be $178 billion. \n",
            "A member of the wealthy South African Musk family, Musk was born in Pretoria and briefly attended the University of Pretoria before immigrating to Canada at age 18, acquiring citizenship through his Canadian-born mother. Two years later, he matriculated at Queen's University at Kingston in Canada. Musk later transferred to the University of Pennsylvania and received bachelor's degrees in economics and physics. He moved to California in 1995 to attend Stanford University, but dropped out after two days and, with his brother Kimbal, co-founded online city guide software company Zip2. The startup was acquired by Compaq for $307 million in 1999. That same year, Musk co-founded X.com, a direct bank. X.com merged with Confinity in 2000 to form PayPal. In October 2002, eBay acquired PayPal for $1.5 billion. Using $100 million of the money he made from the sale of PayPal, Musk founded SpaceX, a spaceflight services company, in 2002. \n",
            "In 2004, Musk became an early investor in electric vehicle manufacturer Tesla Motors, Inc. (later Tesla, Inc.). He became the company's chairman and product architect, assuming the position of CEO in 2008. In 2006, Musk helped create SolarCity, a solar-energy company that was acquired by Tesla in 2016 and became Tesla Energy. In 2013, he proposed a hyperloop high-speed vactrain transportation system. In 2015, he co-founded OpenAI, a nonprofit artificial intelligence research company. The following year, Musk co-founded Neuralink—a neurotechnology company developing brain–computer interfaces—and the Boring Company, a tunnel construction company. In 2018, the U.S.\n",
            "Securities and Exchange Commission (SEC) sued Musk, alleging that he had falsely announced that he had secured funding for a private takeover of Tesla. To settle the case, Musk stepped down as the chairman of Tesla and paid a $20 million fine. In 2022, he acquired Twitter for $44 billion. He subsequently merged the company into newly created X Corp. and rebranded the service as X the following year. In March 2023, Musk founded xAI, an artificial intelligence company.\n",
            "Musk has expressed views that have made him a polarizing figure. He has been criticized for making unscientific and misleading statements, including COVID-19 misinformation and antisemitic conspiracy theories. His ownership of Twitter has been similarly controversial, being marked by layoffs of large numbers of employees, an increase in hate speech and misinformation and disinformation on the website, and changes to Twitter Blue verification.\n",
            "\n",
            "\n",
            "== Early life and education ==\n",
            "\n",
            "\n",
            "=== Childhood and family ===\n",
            "\n",
            "Elon Reeve Musk was born on June 28, 1971, in Pretoria, South Africa's administrative capital. He is of British and Pennsylvania Dutch ancestry. His mother, Maye Musk (née Haldeman), is a model and dietitian born in Saskatchewan, Canada, and raised in South Africa. His father, Errol Musk, is a South African electromechanical engineer, pilot, sailor, consultant, emerald dealer, and property developer, who partly owned a rental lodge at the Timbavati Private Nature Reserve. Elon has a younger brother, Kimbal, and a younger sister, Tosca.\n",
            "The family was wealthy during Elon's youth. Despite both Musk and Errol previously stating that Errol was a part owner of a Zambian emerald mine, in 2023, Errol recounted that the deal he made was to receive \"a portion of the emeralds produced at three small mines.\" Errol was elected to the Pretoria City Council as a representative of the anti-apartheid Progressive Party and has said that his children shared their father's dislike of apartheid.  \n",
            "Elon's maternal grandfather, Joshua N. Haldeman, was an American-born Canadian who took his family on record-breaking journeys to Africa and Australia in a single-engine Bellanca airplane. \n",
            "After his parents divorced in 1980, Elon chose to live primarily with his father. Elon later regretted his decision and became estranged from his father. In one incident, after having called a boy whose father had committed suicide \"stupid\", Elon was thrown down concrete steps and beaten severely by the boy and his friends, leading to him being hospitalized for his injuries. Elon has four paternal half-siblings.\n",
            "Elon was an enthusiastic reader of books, later attributing his success in part to having read The Lord of the Rings, the Foundation series, and The Hitchhiker's Guide to the Galaxy. At age ten, he developed an interest in computing and video games, teaching himself how to program from the VIC-20 user manual. At age twelve, Elon sold his BASIC-based game Blastar to PC and Office Technology magazine for approximately $500.\n",
            "== Business career ==\n",
            "\n",
            "\n",
            "=== Zip2 ===\n",
            "\n",
            "In 1995, Musk, his brother Kimbal, and Greg Kouri founded Global Link Information Network, later renamed to Zip2. The company was financed mainly through a financing round of $200,000, of which 10% was contributed by his father Errol Musk. The company developed an Internet city guide with maps, directions, and yellow pages, and marketed it to newspapers. They worked at a small rented office in Palo Alto, with Musk coding the website every night. Eventually, Zip2 obtained contracts with The New York Times and the Chicago Tribune. The brothers persuaded the board of directors to abandon a merger with CitySearch; however, Musk's attempts to become CEO were thwarted. Compaq acquired Zip2 for $307 million in cash in February 1999, and Musk received $22 million for his 7-percent share.\n",
            "\n",
            "\n",
            "=== X.com and PayPal ===\n",
            "\n",
            "In March 1999, Musk co-founded X.com, an online financial services and e-mail payment company with $12 million of the money he made from the Compaq acquisition. X.com was one of the first federally insured online banks, and over 200,000 customers joined in its initial months of operation.\n",
            "Musk's friends expressed scepticism about the naming of the online bank, fearing it might have been mistaken for a pornographic site. Musk brushed off their concerns, emphasizing that the name was meant to be straightforward, memorable, and easy to type. Additionally, he was fond of the email configuration derived from it, such as \"e@x.com\".\n",
            "Even though Musk founded the company, investors regarded him as inexperienced and replaced him with Intuit CEO Bill Harris by the end of the year.\n",
            "In 2000, X.com merged with the online bank Confinity to avoid competition, as the latter's money-transfer service PayPal was more popular than X.com's service. Musk then returned as CEO of the merged company. His preference for Microsoft over Unix-based software caused a rift among the company's employees, and eventually led Confinity co-founder Peter Thiel to resign. With the company suffering from compounding technological issues and the lack of a cohesive business model, the board ousted Musk and replaced him with Thiel in September 2000. Under Thiel, the company focused on the money-transfer service and was renamed PayPal in 2001.\n",
            "In 2002, PayPal was acquired by eBay for $1.5 billion in stock, of which Musk—PayPal's largest shareholder with 11.72% of shares—received $175.8 million. In 2017, more than 15 years later, Musk purchased the X.com domain from PayPal for its \"sentimental value\". In 2022, Musk discussed a goal of creating \"X, the everything app\".\n",
            "Here is a summary of the key topics and entities in the section:\n",
            "\n",
            "**Key Topics:**\n",
            "\n",
            "1. Elon Musk's biography\n",
            "2. His business ventures and investments\n",
            "3. His education and early career\n",
            "4. His role in founding and leading various companies, including SpaceX, Tesla, and others\n",
            "\n",
            "**Entities:**\n",
            "\n",
            "1. Elon Musk\n",
            "2. SpaceX\n",
            "3. Tesla, Inc.\n",
            "4. X Corp.\n",
            "5. The Boring Company\n",
            "6. Neuralink\n",
            "7. OpenAI\n",
            "8. X.com\n",
            "9. PayPal\n",
            "10. eBay\n",
            "11. Stanford University\n",
            "12. University of Pennsylvania\n",
            "13. University of Pretoria\n",
            "14. Queen's University at Kingston\n",
            "15. Canada\n",
            "16. South Africa\n",
            "17. United States\n",
            "=== Education ===\n",
            "\n",
            "Musk attended Waterkloof House Preparatory School, Bryanston High School, and then Pretoria Boys High School, where he graduated. Musk was a good but not exceptional student, earning a 61 in Afrikaans and a B on his senior math certification. Musk applied for a Canadian passport through his Canadian-born mother, knowing that it would be easier to immigrate to the United States this way. While waiting for his application to be processed, he attended the University of Pretoria for five months.\n",
            "Musk arrived in Canada in June 1989, connected with a second cousin in Saskatchewan, and worked odd jobs including at a farm and a lumber mill. In 1990, he entered Queen's University in Kingston, Ontario.\n",
            "Two years later, he transferred to the University of Pennsylvania, an Ivy League university in Philadelphia, where he earned two degrees, a Bachelor of Arts in physics, and a Bachelor of Science degree in economics from the university's Wharton School. Although Musk has said that he earned the degrees in 1995, the University of Pennsylvania did not award them until 1997. He reportedly hosted large, ticketed house parties to help pay for tuition, and wrote a business plan for an electronic book-scanning service similar to Google Books.\n",
            "In 1994, Musk held two internships in Silicon Valley: one at energy storage startup Pinnacle Research Institute, which investigated electrolytic ultracapacitors for energy storage, and another at Palo Alto–based startup Rocket Science Games. \n",
            "In 1995, he was accepted to a graduate program in materials science at Stanford University, but did not enroll. Musk decided to join the Internet boom, applying for a job at Netscape, to which he reportedly never received a response.\n",
            "\n",
            "\n",
            "== Business career ==\n"
          ]
        }
      ]
    },
    {
      "cell_type": "markdown",
      "source": [
        "## 先用两篇 Wiki 做 Summery，然后分别索引上面各自的 Retriever"
      ],
      "metadata": {
        "id": "2LN_cY4j_0Uv"
      }
    },
    {
      "cell_type": "markdown",
      "source": [
        "### 生成摘要，构建 IndexNode"
      ],
      "metadata": {
        "id": "FkB-H8R9AQAJ"
      }
    },
    {
      "cell_type": "code",
      "source": [
        "# 用摘要做入口索引\n",
        "top_nodes = []\n",
        "vector_retrievers = {}\n",
        "\n",
        "for wiki_title in wiki_titles:\n",
        "    # use LLM-generated summary\n",
        "    summary_index = SummaryIndex.from_documents([docs_dict[wiki_title]])\n",
        "    summarizer = summary_index.as_query_engine(response_mode=\"tree_summarize\", llm=llm_summarize)\n",
        "    response = await summarizer.aquery(\n",
        "        f\"Give me a summary of {wiki_title}\"\n",
        "    )\n",
        "\n",
        "    wiki_summary = response.response\n",
        "\n",
        "    print(f\"**Summary for {wiki_title}: \\n{wiki_summary}\")\n",
        "    wiki_node = IndexNode(text=wiki_summary, index_id=wiki_title)\n",
        "    top_nodes.append(wiki_node)"
      ],
      "metadata": {
        "colab": {
          "base_uri": "https://localhost:8080/"
        },
        "id": "tfZatzUMkneG",
        "outputId": "fb257a4b-3887-4e08-f8ee-dd65e75ce2db"
      },
      "execution_count": null,
      "outputs": [
        {
          "output_type": "stream",
          "name": "stderr",
          "text": [
            "WARNING:llama_index.llms.openai.utils:Retrying llama_index.llms.openai.base.OpenAI._achat in 0.23426579877518428 seconds as it raised RateLimitError: Error code: 429 - {'error': {'message': 'Rate limit reached for model `llama3-8b-8192` in organization `org_01hw3388tce7zswjxbm4hwp7vq` on tokens per minute (TPM): Limit 15000, Used 11064, Requested ~4015. Please try again in 316ms. Visit https://console.groq.com/docs/rate-limits for more information.', 'type': 'tokens', 'code': 'rate_limit_exceeded'}}.\n"
          ]
        },
        {
          "output_type": "stream",
          "name": "stdout",
          "text": [
            "**Summary for Michael Jordan: Michael Jordan is a renowned American former professional basketball player, entrepreneur, and sports icon. He is widely regarded as one of the greatest basketball players of all time. Born on February 17, 1963, Jordan played in the National Basketball Association (NBA) for the Chicago Bulls and Washington Wizards. He won six NBA championships, five Most Valuable Player (MVP) awards, and is the all-time leader in points per game with an average of 30.12.\n"
          ]
        },
        {
          "output_type": "stream",
          "name": "stderr",
          "text": [
            "WARNING:llama_index.llms.openai.utils:Retrying llama_index.llms.openai.base.OpenAI._achat in 0.7533860951940354 seconds as it raised RateLimitError: Error code: 429 - {'error': {'message': 'Rate limit reached for model `llama3-8b-8192` in organization `org_01hw3388tce7zswjxbm4hwp7vq` on tokens per minute (TPM): Limit 15000, Used 14223, Requested ~4428. Please try again in 14.604s. Visit https://console.groq.com/docs/rate-limits for more information.', 'type': 'tokens', 'code': 'rate_limit_exceeded'}}.\n",
            "WARNING:llama_index.llms.openai.utils:Retrying llama_index.llms.openai.base.OpenAI._achat in 0.29275239629784544 seconds as it raised RateLimitError: Error code: 429 - {'error': {'message': 'Rate limit reached for model `llama3-8b-8192` in organization `org_01hw3388tce7zswjxbm4hwp7vq` on tokens per minute (TPM): Limit 15000, Used 13999, Requested ~4572. Please try again in 14.283s. Visit https://console.groq.com/docs/rate-limits for more information.', 'type': 'tokens', 'code': 'rate_limit_exceeded'}}.\n"
          ]
        },
        {
          "output_type": "stream",
          "name": "stdout",
          "text": [
            "**Summary for Elon Musk: Elon Musk is a renowned entrepreneur, business magnate, and engineer who has founded or co-founded several successful companies, including PayPal, SpaceX, Tesla, Neuralink, and The Boring Company. He is known for his innovative ideas, ambitious projects, and unconventional leadership style. Musk has been involved in various ventures, including electric cars, space exploration, renewable energy, and artificial intelligence. He has also been recognized for his entrepreneurial spirit and has been named one of the most influential people in the world by Time magazine.\n"
          ]
        }
      ]
    },
    {
      "cell_type": "markdown",
      "source": [
        "### 两个索引节点构建入口的 Retriever"
      ],
      "metadata": {
        "id": "PQDyIcqGAYB9"
      }
    },
    {
      "cell_type": "code",
      "source": [
        "top_vector_index = VectorStoreIndex(top_nodes, transformations=[node_parser])\n",
        "top_vector_retriever = top_vector_index.as_retriever(similarity_top_k=1)"
      ],
      "metadata": {
        "id": "pWIUDmjSoLRQ"
      },
      "execution_count": null,
      "outputs": []
    },
    {
      "cell_type": "markdown",
      "source": [
        "### 关于 Michael Jordan 和 Elon Musk 的相关问题都会索引到各自的 Retriever 去进一步执行"
      ],
      "metadata": {
        "id": "Kz5a8SBDAov2"
      }
    },
    {
      "cell_type": "code",
      "source": [
        "top_recursive_retriever = RecursiveRetriever(\n",
        "    \"vector\",\n",
        "    retriever_dict={\"vector\": top_vector_retriever, \"Michael Jordan\":recursive_retriever_jordan, \"Elon Musk\":hybrid_retriever_musk},\n",
        "    node_dict={**all_nodes_dict_jordan, **all_nodes_dict_musk},\n",
        "    verbose=True\n",
        ")"
      ],
      "metadata": {
        "id": "xHTnxWYZoT4X"
      },
      "execution_count": null,
      "outputs": []
    },
    {
      "cell_type": "code",
      "source": [
        "nodes = top_recursive_retriever.retrieve(\n",
        "    \"Tell me about the childhood of a billionaire who started at company at he age of 16\"\n",
        ")\n",
        "for node in nodes:\n",
        "    print(node.node.get_content())"
      ],
      "metadata": {
        "id": "RQLb_PPFzmTa"
      },
      "execution_count": null,
      "outputs": []
    },
    {
      "cell_type": "markdown",
      "source": [
        "## 测试\n",
        "告诉我一位16岁开始在公司工作的亿万富翁的童年"
      ],
      "metadata": {
        "id": "_-pFL0bplNrW"
      }
    },
    {
      "cell_type": "code",
      "source": [
        "response_synthesizer = get_response_synthesizer(response_mode=\"compact\")\n",
        "\n",
        "query_engine = RetrieverQueryEngine.from_args(\n",
        "    top_recursive_retriever,\n",
        "    response_synthesizer=response_synthesizer,\n",
        "    verbose=True\n",
        ")\n",
        "\n",
        "response = query_engine.query(\"Tell me about the childhood of a billionaire who started at company at the age of 16\")\n",
        "display_response(response)"
      ],
      "metadata": {
        "colab": {
          "base_uri": "https://localhost:8080/",
          "height": 1000
        },
        "id": "Z4yrN_kFqe6x",
        "outputId": "abbb62d3-9740-40fa-c6f4-09218ab248fc"
      },
      "execution_count": null,
      "outputs": [
        {
          "output_type": "stream",
          "name": "stdout",
          "text": [
            "\u001b[1;3;34mRetrieving with query id None: Tell me about the childhood of a billionaire who started at company at the age of 16\n",
            "\u001b[0m\u001b[1;3;38;5;200mRetrieved node with id, entering: Elon Musk\n",
            "\u001b[0m\u001b[1;3;34mRetrieving with query id Elon Musk: Tell me about the childhood of a billionaire who started at company at the age of 16\n",
            "\u001b[0m"
          ]
        },
        {
          "output_type": "stream",
          "name": "stderr",
          "text": [
            "WARNING:llama_index.retrievers.bm25.base:BM25Retriever does not support embeddings, skipping...\n"
          ]
        },
        {
          "output_type": "stream",
          "name": "stdout",
          "text": [
            "Generated queries:\n",
            "Here are three search queries related to the input query:\n",
            "Richard Branson's early life and entrepreneurial ventures as a teenager\n",
            "Biographies of self-made billionaires who started their business empires as minors\n",
            "Successful entrepreneurs who dropped out of school to pursue their startup dreams\n",
            "\u001b[1;3;34mRetrieving with query id None: Tell me about the childhood of a billionaire who started at company at the age of 16\n",
            "\u001b[0m\u001b[1;3;38;5;200mRetrieving text node: Securities and Exchange Commission (SEC) sued Musk, alleging that he had falsely announced that he had secured funding for a private takeover of Tesla. To settle the case, Musk stepped down as the chairman of Tesla and paid a $20 million fine. In 2022, he acquired Twitter for $44 billion. He subsequently merged the company into newly created X Corp. and rebranded the service as X the following year. In March 2023, Musk founded xAI, an artificial intelligence company.\n",
            "Musk has expressed views that have made him a polarizing figure. He has been criticized for making unscientific and misleading statements, including COVID-19 misinformation and antisemitic conspiracy theories. His ownership of Twitter has been similarly controversial, being marked by layoffs of large numbers of employees, an increase in hate speech and misinformation and disinformation on the website, and changes to Twitter Blue verification.\n",
            "\n",
            "\n",
            "== Early life and education ==\n",
            "\n",
            "\n",
            "=== Childhood and family ===\n",
            "\n",
            "Elon Reeve Musk was born on June 28, 1971, in Pretoria, South Africa's administrative capital. He is of British and Pennsylvania Dutch ancestry. His mother, Maye Musk (née Haldeman), is a model and dietitian born in Saskatchewan, Canada, and raised in South Africa. His father, Errol Musk, is a South African electromechanical engineer, pilot, sailor, consultant, emerald dealer, and property developer, who partly owned a rental lodge at the Timbavati Private Nature Reserve. Elon has a younger brother, Kimbal, and a younger sister, Tosca.\n",
            "The family was wealthy during Elon's youth. Despite both Musk and Errol previously stating that Errol was a part owner of a Zambian emerald mine, in 2023, Errol recounted that the deal he made was to receive \"a portion of the emeralds produced at three small mines.\" Errol was elected to the Pretoria City Council as a representative of the anti-apartheid Progressive Party and has said that his children shared their father's dislike of apartheid.  \n",
            "Elon's maternal grandfather, Joshua N. Haldeman, was an American-born Canadian who took his family on record-breaking journeys to Africa and Australia in a single-engine Bellanca airplane. \n",
            "After his parents divorced in 1980, Elon chose to live primarily with his father. Elon later regretted his decision and became estranged from his father. In one incident, after having called a boy whose father had committed suicide \"stupid\", Elon was thrown down concrete steps and beaten severely by the boy and his friends, leading to him being hospitalized for his injuries. Elon has four paternal half-siblings.\n",
            "Elon was an enthusiastic reader of books, later attributing his success in part to having read The Lord of the Rings, the Foundation series, and The Hitchhiker's Guide to the Galaxy. At age ten, he developed an interest in computing and video games, teaching himself how to program from the VIC-20 user manual. At age twelve, Elon sold his BASIC-based game Blastar to PC and Office Technology magazine for approximately $500.\n",
            "\u001b[0m\u001b[1;3;38;5;200mRetrieving text node: Elon Reeve Musk ( EE-lon; born June 28, 1971) is a businessman and investor. He is the founder, chairman, CEO, and CTO of SpaceX; angel investor, CEO, product architect, and former chairman of Tesla, Inc.; owner, executive chairman, and CTO of X Corp.; founder of the Boring Company and xAI; co-founder of Neuralink and OpenAI; and president of the Musk Foundation. He is one of the wealthiest people in the world; as of April 2024, Forbes estimates his net worth to be $178 billion. \n",
            "A member of the wealthy South African Musk family, Musk was born in Pretoria and briefly attended the University of Pretoria before immigrating to Canada at age 18, acquiring citizenship through his Canadian-born mother. Two years later, he matriculated at Queen's University at Kingston in Canada. Musk later transferred to the University of Pennsylvania and received bachelor's degrees in economics and physics. He moved to California in 1995 to attend Stanford University, but dropped out after two days and, with his brother Kimbal, co-founded online city guide software company Zip2. The startup was acquired by Compaq for $307 million in 1999. That same year, Musk co-founded X.com, a direct bank. X.com merged with Confinity in 2000 to form PayPal. In October 2002, eBay acquired PayPal for $1.5 billion. Using $100 million of the money he made from the sale of PayPal, Musk founded SpaceX, a spaceflight services company, in 2002. \n",
            "In 2004, Musk became an early investor in electric vehicle manufacturer Tesla Motors, Inc. (later Tesla, Inc.). He became the company's chairman and product architect, assuming the position of CEO in 2008. In 2006, Musk helped create SolarCity, a solar-energy company that was acquired by Tesla in 2016 and became Tesla Energy. In 2013, he proposed a hyperloop high-speed vactrain transportation system. In 2015, he co-founded OpenAI, a nonprofit artificial intelligence research company. The following year, Musk co-founded Neuralink—a neurotechnology company developing brain–computer interfaces—and the Boring Company, a tunnel construction company. In 2018, the U.S.\n",
            "\u001b[0m\u001b[1;3;38;5;200mRetrieved node with id, entering: musk_node-1\n",
            "\u001b[0m\u001b[1;3;34mRetrieving with query id musk_node-1: Tell me about the childhood of a billionaire who started at company at the age of 16\n",
            "\u001b[0m\u001b[1;3;38;5;200mRetrieving text node: Using $100 million of the money he made from the sale of PayPal, Musk founded SpaceX, a spaceflight services company, in 2002. \n",
            "In 2004, Musk became an early investor in electric vehicle manufacturer Tesla Motors, Inc. (later Tesla, Inc.). He became the company's chairman and product architect, assuming the position of CEO in 2008. In 2006, Musk helped create SolarCity, a solar-energy company that was acquired by Tesla in 2016 and became Tesla Energy. In 2013, he proposed a hyperloop high-speed vactrain transportation system. In 2015, he co-founded OpenAI, a nonprofit artificial intelligence research company. The following year, Musk co-founded Neuralink—a neurotechnology company developing brain–computer interfaces—and the Boring Company, a tunnel construction company. In 2018, the U.S. Securities and Exchange Commission (SEC) sued Musk, alleging that he had falsely announced that he had secured funding for a private takeover of Tesla. To settle the case, Musk stepped down as the chairman of Tesla and paid a $20 million fine. In 2022, he acquired Twitter for $44 billion. He subsequently merged the company into newly created X Corp. and rebranded the service as X the following year. In March 2023, Musk founded xAI, an artificial intelligence company.\n",
            "Musk has expressed views that have made him a polarizing figure. He has been criticized for making unscientific and misleading statements, including COVID-19 misinformation and antisemitic conspiracy theories. His ownership of Twitter has been similarly controversial, being marked by layoffs of large numbers of employees, an increase in hate speech and misinformation and disinformation on the website, and changes to Twitter Blue verification.\n",
            "\n",
            "\n",
            "== Early life and education ==\n",
            "\u001b[0m\u001b[1;3;38;5;200mRetrieved node with id, entering: musk_node-0\n",
            "\u001b[0m\u001b[1;3;34mRetrieving with query id musk_node-0: Tell me about the childhood of a billionaire who started at company at the age of 16\n",
            "\u001b[0mBM25Retriever does not support embeddings, skipping...\n",
            "BM25Retriever does not support embeddings, skipping...\n",
            "BM25Retriever does not support embeddings, skipping...\n",
            "BM25Retriever does not support embeddings, skipping...\n",
            "\u001b[1;3;34mRetrieving with query id None: Here are three search queries related to the input query:\n",
            "\u001b[0m"
          ]
        },
        {
          "output_type": "stream",
          "name": "stderr",
          "text": [
            "WARNING:llama_index.retrievers.bm25.base:BM25Retriever does not support embeddings, skipping...\n"
          ]
        },
        {
          "output_type": "stream",
          "name": "stdout",
          "text": [
            "\u001b[1;3;38;5;200mRetrieved node with id, entering: musk_node-5\n",
            "\u001b[0m\u001b[1;3;34mRetrieving with query id musk_node-5: Here are three search queries related to the input query:\n",
            "\u001b[0m\u001b[1;3;38;5;200mRetrieved node with id, entering: musk_node-13\n",
            "\u001b[0m\u001b[1;3;34mRetrieving with query id musk_node-13: Here are three search queries related to the input query:\n",
            "\u001b[0m\u001b[1;3;38;5;200mRetrieved node with id, entering: musk_node-3\n",
            "\u001b[0m\u001b[1;3;34mRetrieving with query id musk_node-3: Here are three search queries related to the input query:\n",
            "\u001b[0m\u001b[1;3;38;5;200mRetrieved node with id, entering: musk_node-1\n",
            "\u001b[0m\u001b[1;3;34mRetrieving with query id musk_node-1: Here are three search queries related to the input query:\n",
            "\u001b[0m\u001b[1;3;38;5;200mRetrieved node with id, entering: musk_node-19\n",
            "\u001b[0m\u001b[1;3;34mRetrieving with query id musk_node-19: Here are three search queries related to the input query:\n",
            "\u001b[0mBM25Retriever does not support embeddings, skipping...\n",
            "BM25Retriever does not support embeddings, skipping...\n",
            "BM25Retriever does not support embeddings, skipping...\n",
            "BM25Retriever does not support embeddings, skipping...\n",
            "\u001b[1;3;34mRetrieving with query id None: Richard Branson's early life and entrepreneurial ventures as a teenager\n",
            "\u001b[0m"
          ]
        },
        {
          "output_type": "stream",
          "name": "stderr",
          "text": [
            "WARNING:llama_index.retrievers.bm25.base:BM25Retriever does not support embeddings, skipping...\n"
          ]
        },
        {
          "output_type": "stream",
          "name": "stdout",
          "text": [
            "\u001b[1;3;38;5;200mRetrieved node with id, entering: musk_node-0\n",
            "\u001b[0m\u001b[1;3;34mRetrieving with query id musk_node-0: Richard Branson's early life and entrepreneurial ventures as a teenager\n",
            "\u001b[0m\u001b[1;3;38;5;200mRetrieved node with id, entering: musk_node-3\n",
            "\u001b[0m\u001b[1;3;34mRetrieving with query id musk_node-3: Richard Branson's early life and entrepreneurial ventures as a teenager\n",
            "\u001b[0m\u001b[1;3;38;5;200mRetrieved node with id, entering: musk_node-1\n",
            "\u001b[0m\u001b[1;3;34mRetrieving with query id musk_node-1: Richard Branson's early life and entrepreneurial ventures as a teenager\n",
            "\u001b[0m\u001b[1;3;38;5;200mRetrieving text node: Elon Reeve Musk ( EE-lon; born June 28, 1971) is a businessman and investor. He is the founder, chairman, CEO, and CTO of SpaceX; angel investor, CEO, product architect, and former chairman of Tesla, Inc.; owner, executive chairman, and CTO of X Corp.; founder of the Boring Company and xAI; co-founder of Neuralink and OpenAI; and president of the Musk Foundation. He is one of the wealthiest people in the world; as of April 2024, Forbes estimates his net worth to be $178 billion. \n",
            "A member of the wealthy South African Musk family, Musk was born in Pretoria and briefly attended the University of Pretoria before immigrating to Canada at age 18, acquiring citizenship through his Canadian-born mother. Two years later, he matriculated at Queen's University at Kingston in Canada. Musk later transferred to the University of Pennsylvania and received bachelor's degrees in economics and physics. He moved to California in 1995 to attend Stanford University, but dropped out after two days and, with his brother Kimbal, co-founded online city guide software company Zip2. The startup was acquired by Compaq for $307 million in 1999. That same year, Musk co-founded X.com, a direct bank. X.com merged with Confinity in 2000 to form PayPal. In October 2002, eBay acquired PayPal for $1.5 billion. Using $100 million of the money he made from the sale of PayPal, Musk founded SpaceX, a spaceflight services company, in 2002. \n",
            "In 2004, Musk became an early investor in electric vehicle manufacturer Tesla Motors, Inc. (later Tesla, Inc.). He became the company's chairman and product architect, assuming the position of CEO in 2008. In 2006, Musk helped create SolarCity, a solar-energy company that was acquired by Tesla in 2016 and became Tesla Energy. In 2013, he proposed a hyperloop high-speed vactrain transportation system. In 2015, he co-founded OpenAI, a nonprofit artificial intelligence research company. The following year, Musk co-founded Neuralink—a neurotechnology company developing brain–computer interfaces—and the Boring Company, a tunnel construction company. In 2018, the U.S.\n",
            "\u001b[0m\u001b[1;3;38;5;200mRetrieved node with id, entering: musk_node-4\n",
            "\u001b[0m\u001b[1;3;34mRetrieving with query id musk_node-4: Richard Branson's early life and entrepreneurial ventures as a teenager\n",
            "\u001b[0mBM25Retriever does not support embeddings, skipping...\n",
            "BM25Retriever does not support embeddings, skipping...\n",
            "BM25Retriever does not support embeddings, skipping...\n",
            "BM25Retriever does not support embeddings, skipping...\n",
            "\u001b[1;3;34mRetrieving with query id None: Biographies of self-made billionaires who started their business empires as minors\n",
            "\u001b[0m"
          ]
        },
        {
          "output_type": "stream",
          "name": "stderr",
          "text": [
            "WARNING:llama_index.retrievers.bm25.base:BM25Retriever does not support embeddings, skipping...\n"
          ]
        },
        {
          "output_type": "stream",
          "name": "stdout",
          "text": [
            "\u001b[1;3;38;5;200mRetrieving text node: Elon Reeve Musk ( EE-lon; born June 28, 1971) is a businessman and investor. He is the founder, chairman, CEO, and CTO of SpaceX; angel investor, CEO, product architect, and former chairman of Tesla, Inc.; owner, executive chairman, and CTO of X Corp.; founder of the Boring Company and xAI; co-founder of Neuralink and OpenAI; and president of the Musk Foundation. He is one of the wealthiest people in the world; as of April 2024, Forbes estimates his net worth to be $178 billion. \n",
            "A member of the wealthy South African Musk family, Musk was born in Pretoria and briefly attended the University of Pretoria before immigrating to Canada at age 18, acquiring citizenship through his Canadian-born mother. Two years later, he matriculated at Queen's University at Kingston in Canada. Musk later transferred to the University of Pennsylvania and received bachelor's degrees in economics and physics. He moved to California in 1995 to attend Stanford University, but dropped out after two days and, with his brother Kimbal, co-founded online city guide software company Zip2. The startup was acquired by Compaq for $307 million in 1999. That same year, Musk co-founded X.com, a direct bank. X.com merged with Confinity in 2000 to form PayPal. In October 2002, eBay acquired PayPal for $1.5 billion. Using $100 million of the money he made from the sale of PayPal, Musk founded SpaceX, a spaceflight services company, in 2002. \n",
            "In 2004, Musk became an early investor in electric vehicle manufacturer Tesla Motors, Inc. (later Tesla, Inc.). He became the company's chairman and product architect, assuming the position of CEO in 2008. In 2006, Musk helped create SolarCity, a solar-energy company that was acquired by Tesla in 2016 and became Tesla Energy. In 2013, he proposed a hyperloop high-speed vactrain transportation system. In 2015, he co-founded OpenAI, a nonprofit artificial intelligence research company. The following year, Musk co-founded Neuralink—a neurotechnology company developing brain–computer interfaces—and the Boring Company, a tunnel construction company. In 2018, the U.S.\n",
            "\u001b[0m\u001b[1;3;38;5;200mRetrieved node with id, entering: musk_node-0\n",
            "\u001b[0m\u001b[1;3;34mRetrieving with query id musk_node-0: Biographies of self-made billionaires who started their business empires as minors\n",
            "\u001b[0m\u001b[1;3;38;5;200mRetrieved node with id, entering: musk_node-4\n",
            "\u001b[0m\u001b[1;3;34mRetrieving with query id musk_node-4: Biographies of self-made billionaires who started their business empires as minors\n",
            "\u001b[0m\u001b[1;3;38;5;200mRetrieving text node: == Business career ==\n",
            "\n",
            "\n",
            "=== Zip2 ===\n",
            "\n",
            "In 1995, Musk, his brother Kimbal, and Greg Kouri founded Global Link Information Network, later renamed to Zip2. The company was financed mainly through a financing round of $200,000, of which 10% was contributed by his father Errol Musk. The company developed an Internet city guide with maps, directions, and yellow pages, and marketed it to newspapers. They worked at a small rented office in Palo Alto, with Musk coding the website every night. Eventually, Zip2 obtained contracts with The New York Times and the Chicago Tribune. The brothers persuaded the board of directors to abandon a merger with CitySearch; however, Musk's attempts to become CEO were thwarted. Compaq acquired Zip2 for $307 million in cash in February 1999, and Musk received $22 million for his 7-percent share.\n",
            "\u001b[0m\u001b[1;3;38;5;200mRetrieved node with id, entering: musk_node-5\n",
            "\u001b[0m\u001b[1;3;34mRetrieving with query id musk_node-5: Biographies of self-made billionaires who started their business empires as minors\n",
            "\u001b[0mBM25Retriever does not support embeddings, skipping...\n",
            "BM25Retriever does not support embeddings, skipping...\n",
            "BM25Retriever does not support embeddings, skipping...\n",
            "BM25Retriever does not support embeddings, skipping...\n",
            "\u001b[1;3;38;5;200mRetrieving text node: Elon Reeve Musk ( EE-lon; born June 28, 1971) is a businessman and investor. He is the founder, chairman, CEO, and CTO of SpaceX; angel investor, CEO, product architect, and former chairman of Tesla, Inc.; owner, executive chairman, and CTO of X Corp.; founder of the Boring Company and xAI; co-founder of Neuralink and OpenAI; and president of the Musk Foundation. He is one of the wealthiest people in the world; as of April 2024, Forbes estimates his net worth to be $178 billion. \n",
            "A member of the wealthy South African Musk family, Musk was born in Pretoria and briefly attended the University of Pretoria before immigrating to Canada at age 18, acquiring citizenship through his Canadian-born mother. Two years later, he matriculated at Queen's University at Kingston in Canada. Musk later transferred to the University of Pennsylvania and received bachelor's degrees in economics and physics. He moved to California in 1995 to attend Stanford University, but dropped out after two days and, with his brother Kimbal, co-founded online city guide software company Zip2. The startup was acquired by Compaq for $307 million in 1999. That same year, Musk co-founded X.com, a direct bank. X.com merged with Confinity in 2000 to form PayPal. In October 2002, eBay acquired PayPal for $1.5 billion. Using $100 million of the money he made from the sale of PayPal, Musk founded SpaceX, a spaceflight services company, in 2002. \n",
            "In 2004, Musk became an early investor in electric vehicle manufacturer Tesla Motors, Inc. (later Tesla, Inc.). He became the company's chairman and product architect, assuming the position of CEO in 2008. In 2006, Musk helped create SolarCity, a solar-energy company that was acquired by Tesla in 2016 and became Tesla Energy. In 2013, he proposed a hyperloop high-speed vactrain transportation system. In 2015, he co-founded OpenAI, a nonprofit artificial intelligence research company. The following year, Musk co-founded Neuralink—a neurotechnology company developing brain–computer interfaces—and the Boring Company, a tunnel construction company. In 2018, the U.S.\n",
            "\u001b[0m\u001b[1;3;38;5;200mRetrieving text node: Securities and Exchange Commission (SEC) sued Musk, alleging that he had falsely announced that he had secured funding for a private takeover of Tesla. To settle the case, Musk stepped down as the chairman of Tesla and paid a $20 million fine. In 2022, he acquired Twitter for $44 billion. He subsequently merged the company into newly created X Corp. and rebranded the service as X the following year. In March 2023, Musk founded xAI, an artificial intelligence company.\n",
            "Musk has expressed views that have made him a polarizing figure. He has been criticized for making unscientific and misleading statements, including COVID-19 misinformation and antisemitic conspiracy theories. His ownership of Twitter has been similarly controversial, being marked by layoffs of large numbers of employees, an increase in hate speech and misinformation and disinformation on the website, and changes to Twitter Blue verification.\n",
            "\n",
            "\n",
            "== Early life and education ==\n",
            "\n",
            "\n",
            "=== Childhood and family ===\n",
            "\n",
            "Elon Reeve Musk was born on June 28, 1971, in Pretoria, South Africa's administrative capital. He is of British and Pennsylvania Dutch ancestry. His mother, Maye Musk (née Haldeman), is a model and dietitian born in Saskatchewan, Canada, and raised in South Africa. His father, Errol Musk, is a South African electromechanical engineer, pilot, sailor, consultant, emerald dealer, and property developer, who partly owned a rental lodge at the Timbavati Private Nature Reserve. Elon has a younger brother, Kimbal, and a younger sister, Tosca.\n",
            "The family was wealthy during Elon's youth. Despite both Musk and Errol previously stating that Errol was a part owner of a Zambian emerald mine, in 2023, Errol recounted that the deal he made was to receive \"a portion of the emeralds produced at three small mines.\" Errol was elected to the Pretoria City Council as a representative of the anti-apartheid Progressive Party and has said that his children shared their father's dislike of apartheid.  \n",
            "Elon's maternal grandfather, Joshua N. Haldeman, was an American-born Canadian who took his family on record-breaking journeys to Africa and Australia in a single-engine Bellanca airplane. \n",
            "After his parents divorced in 1980, Elon chose to live primarily with his father. Elon later regretted his decision and became estranged from his father. In one incident, after having called a boy whose father had committed suicide \"stupid\", Elon was thrown down concrete steps and beaten severely by the boy and his friends, leading to him being hospitalized for his injuries. Elon has four paternal half-siblings.\n",
            "Elon was an enthusiastic reader of books, later attributing his success in part to having read The Lord of the Rings, the Foundation series, and The Hitchhiker's Guide to the Galaxy. At age ten, he developed an interest in computing and video games, teaching himself how to program from the VIC-20 user manual. At age twelve, Elon sold his BASIC-based game Blastar to PC and Office Technology magazine for approximately $500.\n",
            "\u001b[0m\u001b[1;3;38;5;200mRetrieved node with id, entering: musk_node-0\n",
            "\u001b[0m\u001b[1;3;34mRetrieving with query id musk_node-0: Tell me about the childhood of a billionaire who started at company at the age of 16\n",
            "\u001b[0m\u001b[1;3;38;5;200mRetrieving text node: == Business career ==\n",
            "\n",
            "\n",
            "=== Zip2 ===\n",
            "\n",
            "In 1995, Musk, his brother Kimbal, and Greg Kouri founded Global Link Information Network, later renamed to Zip2. The company was financed mainly through a financing round of $200,000, of which 10% was contributed by his father Errol Musk. The company developed an Internet city guide with maps, directions, and yellow pages, and marketed it to newspapers. They worked at a small rented office in Palo Alto, with Musk coding the website every night. Eventually, Zip2 obtained contracts with The New York Times and the Chicago Tribune. The brothers persuaded the board of directors to abandon a merger with CitySearch; however, Musk's attempts to become CEO were thwarted. Compaq acquired Zip2 for $307 million in cash in February 1999, and Musk received $22 million for his 7-percent share.\n",
            "\n",
            "\n",
            "=== X.com and PayPal ===\n",
            "\n",
            "In March 1999, Musk co-founded X.com, an online financial services and e-mail payment company with $12 million of the money he made from the Compaq acquisition. X.com was one of the first federally insured online banks, and over 200,000 customers joined in its initial months of operation.\n",
            "Musk's friends expressed scepticism about the naming of the online bank, fearing it might have been mistaken for a pornographic site. Musk brushed off their concerns, emphasizing that the name was meant to be straightforward, memorable, and easy to type. Additionally, he was fond of the email configuration derived from it, such as \"e@x.com\".\n",
            "Even though Musk founded the company, investors regarded him as inexperienced and replaced him with Intuit CEO Bill Harris by the end of the year.\n",
            "In 2000, X.com merged with the online bank Confinity to avoid competition, as the latter's money-transfer service PayPal was more popular than X.com's service. Musk then returned as CEO of the merged company. His preference for Microsoft over Unix-based software caused a rift among the company's employees, and eventually led Confinity co-founder Peter Thiel to resign. With the company suffering from compounding technological issues and the lack of a cohesive business model, the board ousted Musk and replaced him with Thiel in September 2000. Under Thiel, the company focused on the money-transfer service and was renamed PayPal in 2001.\n",
            "In 2002, PayPal was acquired by eBay for $1.5 billion in stock, of which Musk—PayPal's largest shareholder with 11.72% of shares—received $175.8 million. In 2017, more than 15 years later, Musk purchased the X.com domain from PayPal for its \"sentimental value\". In 2022, Musk discussed a goal of creating \"X, the everything app\".\n",
            "\u001b[0m\u001b[1;3;38;5;200mRetrieving text node: history to do so. In November 2021, Musk proposed, on Twitter, to sell 10% of his Tesla stock, since \"much is made lately of unrealized gains being a means of tax avoidance\". After more than 3.5 million Twitter accounts supported the sale, Musk sold $6.9 billion of Tesla stock within a week, and a total of $16.4 billion by year end, reaching the 10% target. In February 2022, The Wall Street Journal reported that both Elon and Kimbal Musk were under investigation by the SEC for possible insider trading related to the sale. In 2022, Musk unveiled a robot developed by Tesla, Optimus. On June 20, 2023, Musk met with Indian Prime Minister Narendra Modi in New York City, suggesting that he might be interested in investing in India \"as soon as humanly possible\".\n",
            "\n",
            "\n",
            "==== SEC and shareholder lawsuits regarding tweets ====\n",
            "In 2018, Musk was sued by the SEC for a tweet stating that funding had been secured for potentially taking Tesla private. The lawsuit characterized the tweet as false, misleading, and damaging to investors, and sought to bar Musk from serving as CEO of publicly traded companies. Two days later, Musk settled with the SEC, without admitting or denying the SEC's allegations. As a result, Musk and Tesla were fined $20 million each, and Musk was forced to step down for three years as Tesla chairman but was able to remain as CEO. In April 2022, the shareholder who sued Musk over the tweet, along with several Tesla shareholders, said that a federal judge had ruled that the tweet was false, although the ruling in question has not been unsealed. In February 2023, the jury found Musk and Tesla not liable.\n",
            "Musk has stated in interviews that he does not regret posting the tweet that triggered the SEC investigation.\n",
            "In 2019, Musk stated in a tweet that Tesla would build half a million cars that year. The SEC reacted to Musk's tweet by filing in court, asking the court to hold him in contempt for violating the terms of a settlement agreement with such a tweet; the accusation was disputed by Musk. This was eventually settled by a joint agreement between Musk and the SEC clarifying the previous agreement details. The agreement included a list of topics that Musk would need preclearance before tweeting about. In 2020, a judge prevented a lawsuit from proceeding that claimed a tweet by Musk regarding Tesla stock price (\"too high imo\") violated the agreement. Freedom of Information Act (FOIA)-released records showed that the SEC itself concluded Musk has subsequently violated the agreement twice by tweeting regarding \"Tesla's solar roof production volumes and its stock price\".\n",
            "\u001b[0m"
          ]
        },
        {
          "output_type": "display_data",
          "data": {
            "text/plain": [
              "<IPython.core.display.Markdown object>"
            ],
            "text/markdown": "**`Final Response:`** Based on the provided context, the billionaire who started a company at the age of 16 is Elon Musk. Elon Musk was born on June 28, 1971, in Pretoria, South Africa. His mother, Maye Musk, is a model and dietitian, and his father, Errol Musk, is a South African electromechanical engineer. Elon has a younger brother, Kimbal, and a younger sister, Tosca. The family was wealthy during Elon's youth. After his parents divorced in 1980, Elon chose to live primarily with his father. Elon later regretted his decision and became estranged from his father. At age 12, Elon developed an interest in computing and video games, teaching himself how to program from the VIC-20 user manual. At age 12, Elon sold his BASIC-based game Blastar to PC and Office Technology magazine for approximately $500."
          },
          "metadata": {}
        }
      ]
    }
  ],
  "metadata": {
    "colab": {
      "provenance": [],
      "include_colab_link": true
    },
    "kernelspec": {
      "display_name": "Python 3",
      "name": "python3"
    },
    "language_info": {
      "name": "python"
    }
  },
  "nbformat": 4,
  "nbformat_minor": 0
}